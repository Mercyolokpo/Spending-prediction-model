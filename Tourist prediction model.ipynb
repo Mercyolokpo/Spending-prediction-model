{
 "cells": [
  {
   "cell_type": "code",
   "execution_count": 1,
   "id": "507f3b05",
   "metadata": {},
   "outputs": [],
   "source": [
    "import pandas as pd\n",
    "import numpy as np\n",
    "import seaborn as sns\n",
    "%matplotlib inline\n",
    "import matplotlib.pyplot as plt"
   ]
  },
  {
   "cell_type": "code",
   "execution_count": 2,
   "id": "53a064de",
   "metadata": {},
   "outputs": [],
   "source": [
    "TZ = pd.read_csv('Train .csv')"
   ]
  },
  {
   "cell_type": "code",
   "execution_count": 3,
   "id": "190b5726",
   "metadata": {},
   "outputs": [
    {
     "data": {
      "text/html": [
       "<div>\n",
       "<style scoped>\n",
       "    .dataframe tbody tr th:only-of-type {\n",
       "        vertical-align: middle;\n",
       "    }\n",
       "\n",
       "    .dataframe tbody tr th {\n",
       "        vertical-align: top;\n",
       "    }\n",
       "\n",
       "    .dataframe thead th {\n",
       "        text-align: right;\n",
       "    }\n",
       "</style>\n",
       "<table border=\"1\" class=\"dataframe\">\n",
       "  <thead>\n",
       "    <tr style=\"text-align: right;\">\n",
       "      <th></th>\n",
       "      <th>ID</th>\n",
       "      <th>country</th>\n",
       "      <th>age_group</th>\n",
       "      <th>travel_with</th>\n",
       "      <th>total_female</th>\n",
       "      <th>total_male</th>\n",
       "      <th>purpose</th>\n",
       "      <th>main_activity</th>\n",
       "      <th>info_source</th>\n",
       "      <th>tour_arrangement</th>\n",
       "      <th>...</th>\n",
       "      <th>package_transport_tz</th>\n",
       "      <th>package_sightseeing</th>\n",
       "      <th>package_guided_tour</th>\n",
       "      <th>package_insurance</th>\n",
       "      <th>night_mainland</th>\n",
       "      <th>night_zanzibar</th>\n",
       "      <th>payment_mode</th>\n",
       "      <th>first_trip_tz</th>\n",
       "      <th>most_impressing</th>\n",
       "      <th>total_cost</th>\n",
       "    </tr>\n",
       "  </thead>\n",
       "  <tbody>\n",
       "    <tr>\n",
       "      <th>0</th>\n",
       "      <td>tour_0</td>\n",
       "      <td>SWIZERLAND</td>\n",
       "      <td>45-64</td>\n",
       "      <td>Friends/Relatives</td>\n",
       "      <td>1.0</td>\n",
       "      <td>1.0</td>\n",
       "      <td>Leisure and Holidays</td>\n",
       "      <td>Wildlife tourism</td>\n",
       "      <td>Friends, relatives</td>\n",
       "      <td>Independent</td>\n",
       "      <td>...</td>\n",
       "      <td>No</td>\n",
       "      <td>No</td>\n",
       "      <td>No</td>\n",
       "      <td>No</td>\n",
       "      <td>13.0</td>\n",
       "      <td>0.0</td>\n",
       "      <td>Cash</td>\n",
       "      <td>No</td>\n",
       "      <td>Friendly People</td>\n",
       "      <td>674602.5</td>\n",
       "    </tr>\n",
       "    <tr>\n",
       "      <th>1</th>\n",
       "      <td>tour_10</td>\n",
       "      <td>UNITED KINGDOM</td>\n",
       "      <td>25-44</td>\n",
       "      <td>NaN</td>\n",
       "      <td>1.0</td>\n",
       "      <td>0.0</td>\n",
       "      <td>Leisure and Holidays</td>\n",
       "      <td>Cultural tourism</td>\n",
       "      <td>others</td>\n",
       "      <td>Independent</td>\n",
       "      <td>...</td>\n",
       "      <td>No</td>\n",
       "      <td>No</td>\n",
       "      <td>No</td>\n",
       "      <td>No</td>\n",
       "      <td>14.0</td>\n",
       "      <td>7.0</td>\n",
       "      <td>Cash</td>\n",
       "      <td>Yes</td>\n",
       "      <td>Wonderful Country, Landscape, Nature</td>\n",
       "      <td>3214906.5</td>\n",
       "    </tr>\n",
       "    <tr>\n",
       "      <th>2</th>\n",
       "      <td>tour_1000</td>\n",
       "      <td>UNITED KINGDOM</td>\n",
       "      <td>25-44</td>\n",
       "      <td>Alone</td>\n",
       "      <td>0.0</td>\n",
       "      <td>1.0</td>\n",
       "      <td>Visiting Friends and Relatives</td>\n",
       "      <td>Cultural tourism</td>\n",
       "      <td>Friends, relatives</td>\n",
       "      <td>Independent</td>\n",
       "      <td>...</td>\n",
       "      <td>No</td>\n",
       "      <td>No</td>\n",
       "      <td>No</td>\n",
       "      <td>No</td>\n",
       "      <td>1.0</td>\n",
       "      <td>31.0</td>\n",
       "      <td>Cash</td>\n",
       "      <td>No</td>\n",
       "      <td>Excellent Experience</td>\n",
       "      <td>3315000.0</td>\n",
       "    </tr>\n",
       "    <tr>\n",
       "      <th>3</th>\n",
       "      <td>tour_1002</td>\n",
       "      <td>UNITED KINGDOM</td>\n",
       "      <td>25-44</td>\n",
       "      <td>Spouse</td>\n",
       "      <td>1.0</td>\n",
       "      <td>1.0</td>\n",
       "      <td>Leisure and Holidays</td>\n",
       "      <td>Wildlife tourism</td>\n",
       "      <td>Travel, agent, tour operator</td>\n",
       "      <td>Package Tour</td>\n",
       "      <td>...</td>\n",
       "      <td>Yes</td>\n",
       "      <td>Yes</td>\n",
       "      <td>Yes</td>\n",
       "      <td>No</td>\n",
       "      <td>11.0</td>\n",
       "      <td>0.0</td>\n",
       "      <td>Cash</td>\n",
       "      <td>Yes</td>\n",
       "      <td>Friendly People</td>\n",
       "      <td>7790250.0</td>\n",
       "    </tr>\n",
       "    <tr>\n",
       "      <th>4</th>\n",
       "      <td>tour_1004</td>\n",
       "      <td>CHINA</td>\n",
       "      <td>1-24</td>\n",
       "      <td>NaN</td>\n",
       "      <td>1.0</td>\n",
       "      <td>0.0</td>\n",
       "      <td>Leisure and Holidays</td>\n",
       "      <td>Wildlife tourism</td>\n",
       "      <td>Travel, agent, tour operator</td>\n",
       "      <td>Independent</td>\n",
       "      <td>...</td>\n",
       "      <td>No</td>\n",
       "      <td>No</td>\n",
       "      <td>No</td>\n",
       "      <td>No</td>\n",
       "      <td>7.0</td>\n",
       "      <td>4.0</td>\n",
       "      <td>Cash</td>\n",
       "      <td>Yes</td>\n",
       "      <td>No comments</td>\n",
       "      <td>1657500.0</td>\n",
       "    </tr>\n",
       "    <tr>\n",
       "      <th>...</th>\n",
       "      <td>...</td>\n",
       "      <td>...</td>\n",
       "      <td>...</td>\n",
       "      <td>...</td>\n",
       "      <td>...</td>\n",
       "      <td>...</td>\n",
       "      <td>...</td>\n",
       "      <td>...</td>\n",
       "      <td>...</td>\n",
       "      <td>...</td>\n",
       "      <td>...</td>\n",
       "      <td>...</td>\n",
       "      <td>...</td>\n",
       "      <td>...</td>\n",
       "      <td>...</td>\n",
       "      <td>...</td>\n",
       "      <td>...</td>\n",
       "      <td>...</td>\n",
       "      <td>...</td>\n",
       "      <td>...</td>\n",
       "      <td>...</td>\n",
       "    </tr>\n",
       "    <tr>\n",
       "      <th>4804</th>\n",
       "      <td>tour_993</td>\n",
       "      <td>UAE</td>\n",
       "      <td>45-64</td>\n",
       "      <td>Alone</td>\n",
       "      <td>0.0</td>\n",
       "      <td>1.0</td>\n",
       "      <td>Business</td>\n",
       "      <td>Hunting tourism</td>\n",
       "      <td>Friends, relatives</td>\n",
       "      <td>Independent</td>\n",
       "      <td>...</td>\n",
       "      <td>No</td>\n",
       "      <td>No</td>\n",
       "      <td>No</td>\n",
       "      <td>No</td>\n",
       "      <td>2.0</td>\n",
       "      <td>0.0</td>\n",
       "      <td>Credit Card</td>\n",
       "      <td>No</td>\n",
       "      <td>No comments</td>\n",
       "      <td>3315000.0</td>\n",
       "    </tr>\n",
       "    <tr>\n",
       "      <th>4805</th>\n",
       "      <td>tour_994</td>\n",
       "      <td>UNITED STATES OF AMERICA</td>\n",
       "      <td>25-44</td>\n",
       "      <td>Spouse</td>\n",
       "      <td>1.0</td>\n",
       "      <td>1.0</td>\n",
       "      <td>Leisure and Holidays</td>\n",
       "      <td>Wildlife tourism</td>\n",
       "      <td>Travel, agent, tour operator</td>\n",
       "      <td>Package Tour</td>\n",
       "      <td>...</td>\n",
       "      <td>Yes</td>\n",
       "      <td>Yes</td>\n",
       "      <td>Yes</td>\n",
       "      <td>Yes</td>\n",
       "      <td>11.0</td>\n",
       "      <td>0.0</td>\n",
       "      <td>Cash</td>\n",
       "      <td>Yes</td>\n",
       "      <td>Friendly People</td>\n",
       "      <td>10690875.0</td>\n",
       "    </tr>\n",
       "    <tr>\n",
       "      <th>4806</th>\n",
       "      <td>tour_995</td>\n",
       "      <td>NETHERLANDS</td>\n",
       "      <td>1-24</td>\n",
       "      <td>NaN</td>\n",
       "      <td>1.0</td>\n",
       "      <td>0.0</td>\n",
       "      <td>Leisure and Holidays</td>\n",
       "      <td>Wildlife tourism</td>\n",
       "      <td>others</td>\n",
       "      <td>Independent</td>\n",
       "      <td>...</td>\n",
       "      <td>No</td>\n",
       "      <td>No</td>\n",
       "      <td>No</td>\n",
       "      <td>No</td>\n",
       "      <td>3.0</td>\n",
       "      <td>7.0</td>\n",
       "      <td>Cash</td>\n",
       "      <td>Yes</td>\n",
       "      <td>Good service</td>\n",
       "      <td>2246636.7</td>\n",
       "    </tr>\n",
       "    <tr>\n",
       "      <th>4807</th>\n",
       "      <td>tour_997</td>\n",
       "      <td>SOUTH AFRICA</td>\n",
       "      <td>25-44</td>\n",
       "      <td>Friends/Relatives</td>\n",
       "      <td>1.0</td>\n",
       "      <td>1.0</td>\n",
       "      <td>Business</td>\n",
       "      <td>Beach tourism</td>\n",
       "      <td>Travel, agent, tour operator</td>\n",
       "      <td>Independent</td>\n",
       "      <td>...</td>\n",
       "      <td>No</td>\n",
       "      <td>No</td>\n",
       "      <td>No</td>\n",
       "      <td>No</td>\n",
       "      <td>5.0</td>\n",
       "      <td>0.0</td>\n",
       "      <td>Credit Card</td>\n",
       "      <td>No</td>\n",
       "      <td>Friendly People</td>\n",
       "      <td>1160250.0</td>\n",
       "    </tr>\n",
       "    <tr>\n",
       "      <th>4808</th>\n",
       "      <td>tour_999</td>\n",
       "      <td>UNITED KINGDOM</td>\n",
       "      <td>25-44</td>\n",
       "      <td>Spouse</td>\n",
       "      <td>1.0</td>\n",
       "      <td>1.0</td>\n",
       "      <td>Leisure and Holidays</td>\n",
       "      <td>Wildlife tourism</td>\n",
       "      <td>Travel, agent, tour operator</td>\n",
       "      <td>Package Tour</td>\n",
       "      <td>...</td>\n",
       "      <td>Yes</td>\n",
       "      <td>Yes</td>\n",
       "      <td>Yes</td>\n",
       "      <td>No</td>\n",
       "      <td>4.0</td>\n",
       "      <td>7.0</td>\n",
       "      <td>Cash</td>\n",
       "      <td>Yes</td>\n",
       "      <td>Friendly People</td>\n",
       "      <td>13260000.0</td>\n",
       "    </tr>\n",
       "  </tbody>\n",
       "</table>\n",
       "<p>4809 rows × 23 columns</p>\n",
       "</div>"
      ],
      "text/plain": [
       "             ID                   country age_group        travel_with  \\\n",
       "0        tour_0                SWIZERLAND     45-64  Friends/Relatives   \n",
       "1       tour_10            UNITED KINGDOM     25-44                NaN   \n",
       "2     tour_1000            UNITED KINGDOM     25-44              Alone   \n",
       "3     tour_1002            UNITED KINGDOM     25-44             Spouse   \n",
       "4     tour_1004                     CHINA      1-24                NaN   \n",
       "...         ...                       ...       ...                ...   \n",
       "4804   tour_993                       UAE     45-64              Alone   \n",
       "4805   tour_994  UNITED STATES OF AMERICA     25-44             Spouse   \n",
       "4806   tour_995               NETHERLANDS      1-24                NaN   \n",
       "4807   tour_997              SOUTH AFRICA     25-44  Friends/Relatives   \n",
       "4808   tour_999            UNITED KINGDOM     25-44             Spouse   \n",
       "\n",
       "      total_female  total_male                         purpose  \\\n",
       "0              1.0         1.0            Leisure and Holidays   \n",
       "1              1.0         0.0            Leisure and Holidays   \n",
       "2              0.0         1.0  Visiting Friends and Relatives   \n",
       "3              1.0         1.0            Leisure and Holidays   \n",
       "4              1.0         0.0            Leisure and Holidays   \n",
       "...            ...         ...                             ...   \n",
       "4804           0.0         1.0                        Business   \n",
       "4805           1.0         1.0            Leisure and Holidays   \n",
       "4806           1.0         0.0            Leisure and Holidays   \n",
       "4807           1.0         1.0                        Business   \n",
       "4808           1.0         1.0            Leisure and Holidays   \n",
       "\n",
       "         main_activity                   info_source tour_arrangement  ...  \\\n",
       "0     Wildlife tourism            Friends, relatives      Independent  ...   \n",
       "1     Cultural tourism                        others      Independent  ...   \n",
       "2     Cultural tourism            Friends, relatives      Independent  ...   \n",
       "3     Wildlife tourism  Travel, agent, tour operator     Package Tour  ...   \n",
       "4     Wildlife tourism  Travel, agent, tour operator      Independent  ...   \n",
       "...                ...                           ...              ...  ...   \n",
       "4804   Hunting tourism            Friends, relatives      Independent  ...   \n",
       "4805  Wildlife tourism  Travel, agent, tour operator     Package Tour  ...   \n",
       "4806  Wildlife tourism                        others      Independent  ...   \n",
       "4807     Beach tourism  Travel, agent, tour operator      Independent  ...   \n",
       "4808  Wildlife tourism  Travel, agent, tour operator     Package Tour  ...   \n",
       "\n",
       "     package_transport_tz package_sightseeing package_guided_tour  \\\n",
       "0                      No                  No                  No   \n",
       "1                      No                  No                  No   \n",
       "2                      No                  No                  No   \n",
       "3                     Yes                 Yes                 Yes   \n",
       "4                      No                  No                  No   \n",
       "...                   ...                 ...                 ...   \n",
       "4804                   No                  No                  No   \n",
       "4805                  Yes                 Yes                 Yes   \n",
       "4806                   No                  No                  No   \n",
       "4807                   No                  No                  No   \n",
       "4808                  Yes                 Yes                 Yes   \n",
       "\n",
       "     package_insurance night_mainland night_zanzibar payment_mode  \\\n",
       "0                   No           13.0            0.0         Cash   \n",
       "1                   No           14.0            7.0         Cash   \n",
       "2                   No            1.0           31.0         Cash   \n",
       "3                   No           11.0            0.0         Cash   \n",
       "4                   No            7.0            4.0         Cash   \n",
       "...                ...            ...            ...          ...   \n",
       "4804                No            2.0            0.0  Credit Card   \n",
       "4805               Yes           11.0            0.0         Cash   \n",
       "4806                No            3.0            7.0         Cash   \n",
       "4807                No            5.0            0.0  Credit Card   \n",
       "4808                No            4.0            7.0         Cash   \n",
       "\n",
       "      first_trip_tz                       most_impressing  total_cost  \n",
       "0                No                       Friendly People    674602.5  \n",
       "1               Yes  Wonderful Country, Landscape, Nature   3214906.5  \n",
       "2                No                  Excellent Experience   3315000.0  \n",
       "3               Yes                       Friendly People   7790250.0  \n",
       "4               Yes                           No comments   1657500.0  \n",
       "...             ...                                   ...         ...  \n",
       "4804             No                           No comments   3315000.0  \n",
       "4805            Yes                       Friendly People  10690875.0  \n",
       "4806            Yes                          Good service   2246636.7  \n",
       "4807             No                       Friendly People   1160250.0  \n",
       "4808            Yes                       Friendly People  13260000.0  \n",
       "\n",
       "[4809 rows x 23 columns]"
      ]
     },
     "execution_count": 3,
     "metadata": {},
     "output_type": "execute_result"
    }
   ],
   "source": [
    "TZ"
   ]
  },
  {
   "cell_type": "code",
   "execution_count": 22,
   "id": "f229f977",
   "metadata": {},
   "outputs": [
    {
     "data": {
      "text/html": [
       "<div>\n",
       "<style scoped>\n",
       "    .dataframe tbody tr th:only-of-type {\n",
       "        vertical-align: middle;\n",
       "    }\n",
       "\n",
       "    .dataframe tbody tr th {\n",
       "        vertical-align: top;\n",
       "    }\n",
       "\n",
       "    .dataframe thead th {\n",
       "        text-align: right;\n",
       "    }\n",
       "</style>\n",
       "<table border=\"1\" class=\"dataframe\">\n",
       "  <thead>\n",
       "    <tr style=\"text-align: right;\">\n",
       "      <th></th>\n",
       "      <th>ID</th>\n",
       "      <th>country</th>\n",
       "      <th>age_group</th>\n",
       "      <th>travel_with</th>\n",
       "      <th>total_female</th>\n",
       "      <th>total_male</th>\n",
       "      <th>purpose</th>\n",
       "      <th>main_activity</th>\n",
       "      <th>info_source</th>\n",
       "      <th>tour_arrangement</th>\n",
       "      <th>...</th>\n",
       "      <th>package_transport_tz</th>\n",
       "      <th>package_sightseeing</th>\n",
       "      <th>package_guided_tour</th>\n",
       "      <th>package_insurance</th>\n",
       "      <th>night_mainland</th>\n",
       "      <th>night_zanzibar</th>\n",
       "      <th>payment_mode</th>\n",
       "      <th>first_trip_tz</th>\n",
       "      <th>most_impressing</th>\n",
       "      <th>total_cost</th>\n",
       "    </tr>\n",
       "  </thead>\n",
       "  <tbody>\n",
       "    <tr>\n",
       "      <th>0</th>\n",
       "      <td>tour_0</td>\n",
       "      <td>SWIZERLAND</td>\n",
       "      <td>45-64</td>\n",
       "      <td>Friends/Relatives</td>\n",
       "      <td>1.0</td>\n",
       "      <td>1.0</td>\n",
       "      <td>Leisure and Holidays</td>\n",
       "      <td>Wildlife tourism</td>\n",
       "      <td>Friends, relatives</td>\n",
       "      <td>Independent</td>\n",
       "      <td>...</td>\n",
       "      <td>No</td>\n",
       "      <td>No</td>\n",
       "      <td>No</td>\n",
       "      <td>No</td>\n",
       "      <td>13.0</td>\n",
       "      <td>0.0</td>\n",
       "      <td>Cash</td>\n",
       "      <td>No</td>\n",
       "      <td>Friendly People</td>\n",
       "      <td>674602.5</td>\n",
       "    </tr>\n",
       "    <tr>\n",
       "      <th>1</th>\n",
       "      <td>tour_10</td>\n",
       "      <td>UNITED KINGDOM</td>\n",
       "      <td>25-44</td>\n",
       "      <td>NaN</td>\n",
       "      <td>1.0</td>\n",
       "      <td>0.0</td>\n",
       "      <td>Leisure and Holidays</td>\n",
       "      <td>Cultural tourism</td>\n",
       "      <td>others</td>\n",
       "      <td>Independent</td>\n",
       "      <td>...</td>\n",
       "      <td>No</td>\n",
       "      <td>No</td>\n",
       "      <td>No</td>\n",
       "      <td>No</td>\n",
       "      <td>14.0</td>\n",
       "      <td>7.0</td>\n",
       "      <td>Cash</td>\n",
       "      <td>Yes</td>\n",
       "      <td>Wonderful Country, Landscape, Nature</td>\n",
       "      <td>3214906.5</td>\n",
       "    </tr>\n",
       "    <tr>\n",
       "      <th>2</th>\n",
       "      <td>tour_1000</td>\n",
       "      <td>UNITED KINGDOM</td>\n",
       "      <td>25-44</td>\n",
       "      <td>Alone</td>\n",
       "      <td>0.0</td>\n",
       "      <td>1.0</td>\n",
       "      <td>Visiting Friends and Relatives</td>\n",
       "      <td>Cultural tourism</td>\n",
       "      <td>Friends, relatives</td>\n",
       "      <td>Independent</td>\n",
       "      <td>...</td>\n",
       "      <td>No</td>\n",
       "      <td>No</td>\n",
       "      <td>No</td>\n",
       "      <td>No</td>\n",
       "      <td>1.0</td>\n",
       "      <td>31.0</td>\n",
       "      <td>Cash</td>\n",
       "      <td>No</td>\n",
       "      <td>Excellent Experience</td>\n",
       "      <td>3315000.0</td>\n",
       "    </tr>\n",
       "    <tr>\n",
       "      <th>3</th>\n",
       "      <td>tour_1002</td>\n",
       "      <td>UNITED KINGDOM</td>\n",
       "      <td>25-44</td>\n",
       "      <td>Spouse</td>\n",
       "      <td>1.0</td>\n",
       "      <td>1.0</td>\n",
       "      <td>Leisure and Holidays</td>\n",
       "      <td>Wildlife tourism</td>\n",
       "      <td>Travel, agent, tour operator</td>\n",
       "      <td>Package Tour</td>\n",
       "      <td>...</td>\n",
       "      <td>Yes</td>\n",
       "      <td>Yes</td>\n",
       "      <td>Yes</td>\n",
       "      <td>No</td>\n",
       "      <td>11.0</td>\n",
       "      <td>0.0</td>\n",
       "      <td>Cash</td>\n",
       "      <td>Yes</td>\n",
       "      <td>Friendly People</td>\n",
       "      <td>7790250.0</td>\n",
       "    </tr>\n",
       "    <tr>\n",
       "      <th>4</th>\n",
       "      <td>tour_1004</td>\n",
       "      <td>CHINA</td>\n",
       "      <td>1-24</td>\n",
       "      <td>NaN</td>\n",
       "      <td>1.0</td>\n",
       "      <td>0.0</td>\n",
       "      <td>Leisure and Holidays</td>\n",
       "      <td>Wildlife tourism</td>\n",
       "      <td>Travel, agent, tour operator</td>\n",
       "      <td>Independent</td>\n",
       "      <td>...</td>\n",
       "      <td>No</td>\n",
       "      <td>No</td>\n",
       "      <td>No</td>\n",
       "      <td>No</td>\n",
       "      <td>7.0</td>\n",
       "      <td>4.0</td>\n",
       "      <td>Cash</td>\n",
       "      <td>Yes</td>\n",
       "      <td>No comments</td>\n",
       "      <td>1657500.0</td>\n",
       "    </tr>\n",
       "    <tr>\n",
       "      <th>5</th>\n",
       "      <td>tour_1005</td>\n",
       "      <td>UNITED KINGDOM</td>\n",
       "      <td>25-44</td>\n",
       "      <td>NaN</td>\n",
       "      <td>0.0</td>\n",
       "      <td>1.0</td>\n",
       "      <td>Leisure and Holidays</td>\n",
       "      <td>Wildlife tourism</td>\n",
       "      <td>Travel, agent, tour operator</td>\n",
       "      <td>Package Tour</td>\n",
       "      <td>...</td>\n",
       "      <td>No</td>\n",
       "      <td>Yes</td>\n",
       "      <td>Yes</td>\n",
       "      <td>No</td>\n",
       "      <td>9.0</td>\n",
       "      <td>3.0</td>\n",
       "      <td>Cash</td>\n",
       "      <td>Yes</td>\n",
       "      <td>Wildlife</td>\n",
       "      <td>120950.0</td>\n",
       "    </tr>\n",
       "    <tr>\n",
       "      <th>6</th>\n",
       "      <td>tour_1007</td>\n",
       "      <td>SOUTH AFRICA</td>\n",
       "      <td>45-64</td>\n",
       "      <td>Alone</td>\n",
       "      <td>0.0</td>\n",
       "      <td>1.0</td>\n",
       "      <td>Business</td>\n",
       "      <td>Mountain climbing</td>\n",
       "      <td>Friends, relatives</td>\n",
       "      <td>Independent</td>\n",
       "      <td>...</td>\n",
       "      <td>No</td>\n",
       "      <td>No</td>\n",
       "      <td>No</td>\n",
       "      <td>No</td>\n",
       "      <td>9.0</td>\n",
       "      <td>0.0</td>\n",
       "      <td>Cash</td>\n",
       "      <td>Yes</td>\n",
       "      <td>Friendly People</td>\n",
       "      <td>466140.0</td>\n",
       "    </tr>\n",
       "    <tr>\n",
       "      <th>7</th>\n",
       "      <td>tour_1008</td>\n",
       "      <td>UNITED STATES OF AMERICA</td>\n",
       "      <td>45-64</td>\n",
       "      <td>Friends/Relatives</td>\n",
       "      <td>1.0</td>\n",
       "      <td>1.0</td>\n",
       "      <td>Leisure and Holidays</td>\n",
       "      <td>Wildlife tourism</td>\n",
       "      <td>Travel, agent, tour operator</td>\n",
       "      <td>Package Tour</td>\n",
       "      <td>...</td>\n",
       "      <td>Yes</td>\n",
       "      <td>Yes</td>\n",
       "      <td>Yes</td>\n",
       "      <td>Yes</td>\n",
       "      <td>10.0</td>\n",
       "      <td>3.0</td>\n",
       "      <td>Cash</td>\n",
       "      <td>Yes</td>\n",
       "      <td>Friendly People</td>\n",
       "      <td>3480750.0</td>\n",
       "    </tr>\n",
       "    <tr>\n",
       "      <th>8</th>\n",
       "      <td>tour_101</td>\n",
       "      <td>NIGERIA</td>\n",
       "      <td>25-44</td>\n",
       "      <td>Alone</td>\n",
       "      <td>0.0</td>\n",
       "      <td>1.0</td>\n",
       "      <td>Leisure and Holidays</td>\n",
       "      <td>Cultural tourism</td>\n",
       "      <td>Travel, agent, tour operator</td>\n",
       "      <td>Independent</td>\n",
       "      <td>...</td>\n",
       "      <td>No</td>\n",
       "      <td>No</td>\n",
       "      <td>No</td>\n",
       "      <td>No</td>\n",
       "      <td>4.0</td>\n",
       "      <td>0.0</td>\n",
       "      <td>Cash</td>\n",
       "      <td>Yes</td>\n",
       "      <td>NaN</td>\n",
       "      <td>994500.0</td>\n",
       "    </tr>\n",
       "    <tr>\n",
       "      <th>9</th>\n",
       "      <td>tour_1011</td>\n",
       "      <td>INDIA</td>\n",
       "      <td>25-44</td>\n",
       "      <td>Alone</td>\n",
       "      <td>1.0</td>\n",
       "      <td>0.0</td>\n",
       "      <td>Business</td>\n",
       "      <td>Wildlife tourism</td>\n",
       "      <td>Travel, agent, tour operator</td>\n",
       "      <td>Independent</td>\n",
       "      <td>...</td>\n",
       "      <td>No</td>\n",
       "      <td>No</td>\n",
       "      <td>No</td>\n",
       "      <td>No</td>\n",
       "      <td>5.0</td>\n",
       "      <td>0.0</td>\n",
       "      <td>Credit Card</td>\n",
       "      <td>Yes</td>\n",
       "      <td>Friendly People</td>\n",
       "      <td>2486250.0</td>\n",
       "    </tr>\n",
       "    <tr>\n",
       "      <th>10</th>\n",
       "      <td>tour_1012</td>\n",
       "      <td>BRAZIL</td>\n",
       "      <td>25-44</td>\n",
       "      <td>Spouse</td>\n",
       "      <td>1.0</td>\n",
       "      <td>1.0</td>\n",
       "      <td>Leisure and Holidays</td>\n",
       "      <td>Wildlife tourism</td>\n",
       "      <td>Radio, TV, Web</td>\n",
       "      <td>Independent</td>\n",
       "      <td>...</td>\n",
       "      <td>No</td>\n",
       "      <td>No</td>\n",
       "      <td>No</td>\n",
       "      <td>No</td>\n",
       "      <td>17.0</td>\n",
       "      <td>3.0</td>\n",
       "      <td>Cash</td>\n",
       "      <td>Yes</td>\n",
       "      <td>Wonderful Country, Landscape, Nature</td>\n",
       "      <td>1117155.0</td>\n",
       "    </tr>\n",
       "    <tr>\n",
       "      <th>11</th>\n",
       "      <td>tour_1013</td>\n",
       "      <td>CANADA</td>\n",
       "      <td>45-64</td>\n",
       "      <td>Children</td>\n",
       "      <td>2.0</td>\n",
       "      <td>0.0</td>\n",
       "      <td>Leisure and Holidays</td>\n",
       "      <td>Beach tourism</td>\n",
       "      <td>Friends, relatives</td>\n",
       "      <td>Independent</td>\n",
       "      <td>...</td>\n",
       "      <td>No</td>\n",
       "      <td>No</td>\n",
       "      <td>No</td>\n",
       "      <td>No</td>\n",
       "      <td>30.0</td>\n",
       "      <td>0.0</td>\n",
       "      <td>Cash</td>\n",
       "      <td>No</td>\n",
       "      <td>Excellent Experience</td>\n",
       "      <td>8121750.0</td>\n",
       "    </tr>\n",
       "    <tr>\n",
       "      <th>12</th>\n",
       "      <td>tour_1016</td>\n",
       "      <td>CANADA</td>\n",
       "      <td>45-64</td>\n",
       "      <td>Children</td>\n",
       "      <td>0.0</td>\n",
       "      <td>2.0</td>\n",
       "      <td>Leisure and Holidays</td>\n",
       "      <td>Wildlife tourism</td>\n",
       "      <td>Travel, agent, tour operator</td>\n",
       "      <td>Independent</td>\n",
       "      <td>...</td>\n",
       "      <td>No</td>\n",
       "      <td>No</td>\n",
       "      <td>No</td>\n",
       "      <td>No</td>\n",
       "      <td>11.0</td>\n",
       "      <td>3.0</td>\n",
       "      <td>Cash</td>\n",
       "      <td>Yes</td>\n",
       "      <td>No comments</td>\n",
       "      <td>331500.0</td>\n",
       "    </tr>\n",
       "    <tr>\n",
       "      <th>13</th>\n",
       "      <td>tour_1017</td>\n",
       "      <td>MALT</td>\n",
       "      <td>25-44</td>\n",
       "      <td>Friends/Relatives</td>\n",
       "      <td>2.0</td>\n",
       "      <td>0.0</td>\n",
       "      <td>Leisure and Holidays</td>\n",
       "      <td>Wildlife tourism</td>\n",
       "      <td>Friends, relatives</td>\n",
       "      <td>Package Tour</td>\n",
       "      <td>...</td>\n",
       "      <td>Yes</td>\n",
       "      <td>No</td>\n",
       "      <td>No</td>\n",
       "      <td>No</td>\n",
       "      <td>10.0</td>\n",
       "      <td>0.0</td>\n",
       "      <td>Cash</td>\n",
       "      <td>Yes</td>\n",
       "      <td>No comments</td>\n",
       "      <td>11346650.0</td>\n",
       "    </tr>\n",
       "    <tr>\n",
       "      <th>14</th>\n",
       "      <td>tour_1018</td>\n",
       "      <td>MOZAMBIQUE</td>\n",
       "      <td>25-44</td>\n",
       "      <td>Alone</td>\n",
       "      <td>0.0</td>\n",
       "      <td>1.0</td>\n",
       "      <td>Visiting Friends and Relatives</td>\n",
       "      <td>Beach tourism</td>\n",
       "      <td>Friends, relatives</td>\n",
       "      <td>Independent</td>\n",
       "      <td>...</td>\n",
       "      <td>No</td>\n",
       "      <td>No</td>\n",
       "      <td>No</td>\n",
       "      <td>No</td>\n",
       "      <td>2.0</td>\n",
       "      <td>0.0</td>\n",
       "      <td>Cash</td>\n",
       "      <td>Yes</td>\n",
       "      <td>Wildlife</td>\n",
       "      <td>497250.0</td>\n",
       "    </tr>\n",
       "    <tr>\n",
       "      <th>15</th>\n",
       "      <td>tour_102</td>\n",
       "      <td>RWANDA</td>\n",
       "      <td>65+</td>\n",
       "      <td>Alone</td>\n",
       "      <td>1.0</td>\n",
       "      <td>0.0</td>\n",
       "      <td>Leisure and Holidays</td>\n",
       "      <td>Beach tourism</td>\n",
       "      <td>Friends, relatives</td>\n",
       "      <td>Independent</td>\n",
       "      <td>...</td>\n",
       "      <td>No</td>\n",
       "      <td>No</td>\n",
       "      <td>No</td>\n",
       "      <td>No</td>\n",
       "      <td>0.0</td>\n",
       "      <td>2.0</td>\n",
       "      <td>Cash</td>\n",
       "      <td>Yes</td>\n",
       "      <td>Wonderful Country, Landscape, Nature</td>\n",
       "      <td>331500.0</td>\n",
       "    </tr>\n",
       "    <tr>\n",
       "      <th>16</th>\n",
       "      <td>tour_1021</td>\n",
       "      <td>AUSTRIA</td>\n",
       "      <td>45-64</td>\n",
       "      <td>Friends/Relatives</td>\n",
       "      <td>4.0</td>\n",
       "      <td>1.0</td>\n",
       "      <td>Visiting Friends and Relatives</td>\n",
       "      <td>Mountain climbing</td>\n",
       "      <td>Friends, relatives</td>\n",
       "      <td>Independent</td>\n",
       "      <td>...</td>\n",
       "      <td>No</td>\n",
       "      <td>No</td>\n",
       "      <td>No</td>\n",
       "      <td>No</td>\n",
       "      <td>24.0</td>\n",
       "      <td>0.0</td>\n",
       "      <td>Cash</td>\n",
       "      <td>No</td>\n",
       "      <td>Friendly People</td>\n",
       "      <td>2000000.0</td>\n",
       "    </tr>\n",
       "    <tr>\n",
       "      <th>17</th>\n",
       "      <td>tour_1022</td>\n",
       "      <td>MYANMAR</td>\n",
       "      <td>25-44</td>\n",
       "      <td>NaN</td>\n",
       "      <td>1.0</td>\n",
       "      <td>0.0</td>\n",
       "      <td>Meetings and Conference</td>\n",
       "      <td>Wildlife tourism</td>\n",
       "      <td>Radio, TV, Web</td>\n",
       "      <td>Independent</td>\n",
       "      <td>...</td>\n",
       "      <td>No</td>\n",
       "      <td>No</td>\n",
       "      <td>No</td>\n",
       "      <td>No</td>\n",
       "      <td>5.0</td>\n",
       "      <td>0.0</td>\n",
       "      <td>Cash</td>\n",
       "      <td>Yes</td>\n",
       "      <td>Friendly People</td>\n",
       "      <td>331500.0</td>\n",
       "    </tr>\n",
       "    <tr>\n",
       "      <th>18</th>\n",
       "      <td>tour_1024</td>\n",
       "      <td>GERMANY</td>\n",
       "      <td>25-44</td>\n",
       "      <td>Children</td>\n",
       "      <td>1.0</td>\n",
       "      <td>1.0</td>\n",
       "      <td>Visiting Friends and Relatives</td>\n",
       "      <td>Cultural tourism</td>\n",
       "      <td>Friends, relatives</td>\n",
       "      <td>Independent</td>\n",
       "      <td>...</td>\n",
       "      <td>No</td>\n",
       "      <td>No</td>\n",
       "      <td>No</td>\n",
       "      <td>No</td>\n",
       "      <td>3.0</td>\n",
       "      <td>0.0</td>\n",
       "      <td>Cash</td>\n",
       "      <td>Yes</td>\n",
       "      <td>Friendly People</td>\n",
       "      <td>2269330.0</td>\n",
       "    </tr>\n",
       "    <tr>\n",
       "      <th>19</th>\n",
       "      <td>tour_1026</td>\n",
       "      <td>KENYA</td>\n",
       "      <td>25-44</td>\n",
       "      <td>NaN</td>\n",
       "      <td>1.0</td>\n",
       "      <td>0.0</td>\n",
       "      <td>Business</td>\n",
       "      <td>Mountain climbing</td>\n",
       "      <td>Friends, relatives</td>\n",
       "      <td>Independent</td>\n",
       "      <td>...</td>\n",
       "      <td>No</td>\n",
       "      <td>No</td>\n",
       "      <td>No</td>\n",
       "      <td>No</td>\n",
       "      <td>4.0</td>\n",
       "      <td>0.0</td>\n",
       "      <td>Cash</td>\n",
       "      <td>No</td>\n",
       "      <td>Friendly People</td>\n",
       "      <td>377520.0</td>\n",
       "    </tr>\n",
       "  </tbody>\n",
       "</table>\n",
       "<p>20 rows × 23 columns</p>\n",
       "</div>"
      ],
      "text/plain": [
       "           ID                   country age_group        travel_with  \\\n",
       "0      tour_0                SWIZERLAND     45-64  Friends/Relatives   \n",
       "1     tour_10            UNITED KINGDOM     25-44                NaN   \n",
       "2   tour_1000            UNITED KINGDOM     25-44              Alone   \n",
       "3   tour_1002            UNITED KINGDOM     25-44             Spouse   \n",
       "4   tour_1004                     CHINA      1-24                NaN   \n",
       "5   tour_1005            UNITED KINGDOM     25-44                NaN   \n",
       "6   tour_1007              SOUTH AFRICA     45-64              Alone   \n",
       "7   tour_1008  UNITED STATES OF AMERICA     45-64  Friends/Relatives   \n",
       "8    tour_101                   NIGERIA     25-44              Alone   \n",
       "9   tour_1011                     INDIA     25-44              Alone   \n",
       "10  tour_1012                    BRAZIL     25-44             Spouse   \n",
       "11  tour_1013                    CANADA     45-64           Children   \n",
       "12  tour_1016                    CANADA     45-64           Children   \n",
       "13  tour_1017                      MALT     25-44  Friends/Relatives   \n",
       "14  tour_1018                MOZAMBIQUE     25-44              Alone   \n",
       "15   tour_102                    RWANDA       65+              Alone   \n",
       "16  tour_1021                   AUSTRIA     45-64  Friends/Relatives   \n",
       "17  tour_1022                   MYANMAR     25-44                NaN   \n",
       "18  tour_1024                   GERMANY     25-44           Children   \n",
       "19  tour_1026                     KENYA     25-44                NaN   \n",
       "\n",
       "    total_female  total_male                         purpose  \\\n",
       "0            1.0         1.0            Leisure and Holidays   \n",
       "1            1.0         0.0            Leisure and Holidays   \n",
       "2            0.0         1.0  Visiting Friends and Relatives   \n",
       "3            1.0         1.0            Leisure and Holidays   \n",
       "4            1.0         0.0            Leisure and Holidays   \n",
       "5            0.0         1.0            Leisure and Holidays   \n",
       "6            0.0         1.0                        Business   \n",
       "7            1.0         1.0            Leisure and Holidays   \n",
       "8            0.0         1.0            Leisure and Holidays   \n",
       "9            1.0         0.0                        Business   \n",
       "10           1.0         1.0            Leisure and Holidays   \n",
       "11           2.0         0.0            Leisure and Holidays   \n",
       "12           0.0         2.0            Leisure and Holidays   \n",
       "13           2.0         0.0            Leisure and Holidays   \n",
       "14           0.0         1.0  Visiting Friends and Relatives   \n",
       "15           1.0         0.0            Leisure and Holidays   \n",
       "16           4.0         1.0  Visiting Friends and Relatives   \n",
       "17           1.0         0.0         Meetings and Conference   \n",
       "18           1.0         1.0  Visiting Friends and Relatives   \n",
       "19           1.0         0.0                        Business   \n",
       "\n",
       "        main_activity                   info_source tour_arrangement  ...  \\\n",
       "0    Wildlife tourism            Friends, relatives      Independent  ...   \n",
       "1    Cultural tourism                        others      Independent  ...   \n",
       "2    Cultural tourism            Friends, relatives      Independent  ...   \n",
       "3    Wildlife tourism  Travel, agent, tour operator     Package Tour  ...   \n",
       "4    Wildlife tourism  Travel, agent, tour operator      Independent  ...   \n",
       "5    Wildlife tourism  Travel, agent, tour operator     Package Tour  ...   \n",
       "6   Mountain climbing            Friends, relatives      Independent  ...   \n",
       "7    Wildlife tourism  Travel, agent, tour operator     Package Tour  ...   \n",
       "8    Cultural tourism  Travel, agent, tour operator      Independent  ...   \n",
       "9    Wildlife tourism  Travel, agent, tour operator      Independent  ...   \n",
       "10   Wildlife tourism                Radio, TV, Web      Independent  ...   \n",
       "11      Beach tourism            Friends, relatives      Independent  ...   \n",
       "12   Wildlife tourism  Travel, agent, tour operator      Independent  ...   \n",
       "13   Wildlife tourism            Friends, relatives     Package Tour  ...   \n",
       "14      Beach tourism            Friends, relatives      Independent  ...   \n",
       "15      Beach tourism            Friends, relatives      Independent  ...   \n",
       "16  Mountain climbing            Friends, relatives      Independent  ...   \n",
       "17   Wildlife tourism                Radio, TV, Web      Independent  ...   \n",
       "18   Cultural tourism            Friends, relatives      Independent  ...   \n",
       "19  Mountain climbing            Friends, relatives      Independent  ...   \n",
       "\n",
       "   package_transport_tz package_sightseeing package_guided_tour  \\\n",
       "0                    No                  No                  No   \n",
       "1                    No                  No                  No   \n",
       "2                    No                  No                  No   \n",
       "3                   Yes                 Yes                 Yes   \n",
       "4                    No                  No                  No   \n",
       "5                    No                 Yes                 Yes   \n",
       "6                    No                  No                  No   \n",
       "7                   Yes                 Yes                 Yes   \n",
       "8                    No                  No                  No   \n",
       "9                    No                  No                  No   \n",
       "10                   No                  No                  No   \n",
       "11                   No                  No                  No   \n",
       "12                   No                  No                  No   \n",
       "13                  Yes                  No                  No   \n",
       "14                   No                  No                  No   \n",
       "15                   No                  No                  No   \n",
       "16                   No                  No                  No   \n",
       "17                   No                  No                  No   \n",
       "18                   No                  No                  No   \n",
       "19                   No                  No                  No   \n",
       "\n",
       "   package_insurance night_mainland night_zanzibar payment_mode  \\\n",
       "0                 No           13.0            0.0         Cash   \n",
       "1                 No           14.0            7.0         Cash   \n",
       "2                 No            1.0           31.0         Cash   \n",
       "3                 No           11.0            0.0         Cash   \n",
       "4                 No            7.0            4.0         Cash   \n",
       "5                 No            9.0            3.0         Cash   \n",
       "6                 No            9.0            0.0         Cash   \n",
       "7                Yes           10.0            3.0         Cash   \n",
       "8                 No            4.0            0.0         Cash   \n",
       "9                 No            5.0            0.0  Credit Card   \n",
       "10                No           17.0            3.0         Cash   \n",
       "11                No           30.0            0.0         Cash   \n",
       "12                No           11.0            3.0         Cash   \n",
       "13                No           10.0            0.0         Cash   \n",
       "14                No            2.0            0.0         Cash   \n",
       "15                No            0.0            2.0         Cash   \n",
       "16                No           24.0            0.0         Cash   \n",
       "17                No            5.0            0.0         Cash   \n",
       "18                No            3.0            0.0         Cash   \n",
       "19                No            4.0            0.0         Cash   \n",
       "\n",
       "    first_trip_tz                       most_impressing  total_cost  \n",
       "0              No                       Friendly People    674602.5  \n",
       "1             Yes  Wonderful Country, Landscape, Nature   3214906.5  \n",
       "2              No                  Excellent Experience   3315000.0  \n",
       "3             Yes                       Friendly People   7790250.0  \n",
       "4             Yes                           No comments   1657500.0  \n",
       "5             Yes                              Wildlife    120950.0  \n",
       "6             Yes                       Friendly People    466140.0  \n",
       "7             Yes                       Friendly People   3480750.0  \n",
       "8             Yes                                   NaN    994500.0  \n",
       "9             Yes                       Friendly People   2486250.0  \n",
       "10            Yes  Wonderful Country, Landscape, Nature   1117155.0  \n",
       "11             No                  Excellent Experience   8121750.0  \n",
       "12            Yes                           No comments    331500.0  \n",
       "13            Yes                           No comments  11346650.0  \n",
       "14            Yes                              Wildlife    497250.0  \n",
       "15            Yes  Wonderful Country, Landscape, Nature    331500.0  \n",
       "16             No                       Friendly People   2000000.0  \n",
       "17            Yes                       Friendly People    331500.0  \n",
       "18            Yes                       Friendly People   2269330.0  \n",
       "19             No                       Friendly People    377520.0  \n",
       "\n",
       "[20 rows x 23 columns]"
      ]
     },
     "execution_count": 22,
     "metadata": {},
     "output_type": "execute_result"
    }
   ],
   "source": [
    "TZ.head(20)"
   ]
  },
  {
   "cell_type": "code",
   "execution_count": 23,
   "id": "e55a138a",
   "metadata": {},
   "outputs": [
    {
     "data": {
      "text/html": [
       "<div>\n",
       "<style scoped>\n",
       "    .dataframe tbody tr th:only-of-type {\n",
       "        vertical-align: middle;\n",
       "    }\n",
       "\n",
       "    .dataframe tbody tr th {\n",
       "        vertical-align: top;\n",
       "    }\n",
       "\n",
       "    .dataframe thead th {\n",
       "        text-align: right;\n",
       "    }\n",
       "</style>\n",
       "<table border=\"1\" class=\"dataframe\">\n",
       "  <thead>\n",
       "    <tr style=\"text-align: right;\">\n",
       "      <th></th>\n",
       "      <th>total_female</th>\n",
       "      <th>total_male</th>\n",
       "      <th>night_mainland</th>\n",
       "      <th>night_zanzibar</th>\n",
       "      <th>total_cost</th>\n",
       "    </tr>\n",
       "  </thead>\n",
       "  <tbody>\n",
       "    <tr>\n",
       "      <th>count</th>\n",
       "      <td>4806.000000</td>\n",
       "      <td>4804.000000</td>\n",
       "      <td>4809.000000</td>\n",
       "      <td>4809.000000</td>\n",
       "      <td>4.809000e+03</td>\n",
       "    </tr>\n",
       "    <tr>\n",
       "      <th>mean</th>\n",
       "      <td>0.926758</td>\n",
       "      <td>1.009575</td>\n",
       "      <td>8.488043</td>\n",
       "      <td>2.304429</td>\n",
       "      <td>8.114389e+06</td>\n",
       "    </tr>\n",
       "    <tr>\n",
       "      <th>std</th>\n",
       "      <td>1.288242</td>\n",
       "      <td>1.138865</td>\n",
       "      <td>10.427624</td>\n",
       "      <td>4.227080</td>\n",
       "      <td>1.222490e+07</td>\n",
       "    </tr>\n",
       "    <tr>\n",
       "      <th>min</th>\n",
       "      <td>0.000000</td>\n",
       "      <td>0.000000</td>\n",
       "      <td>0.000000</td>\n",
       "      <td>0.000000</td>\n",
       "      <td>4.900000e+04</td>\n",
       "    </tr>\n",
       "    <tr>\n",
       "      <th>25%</th>\n",
       "      <td>0.000000</td>\n",
       "      <td>1.000000</td>\n",
       "      <td>3.000000</td>\n",
       "      <td>0.000000</td>\n",
       "      <td>8.121750e+05</td>\n",
       "    </tr>\n",
       "    <tr>\n",
       "      <th>50%</th>\n",
       "      <td>1.000000</td>\n",
       "      <td>1.000000</td>\n",
       "      <td>6.000000</td>\n",
       "      <td>0.000000</td>\n",
       "      <td>3.397875e+06</td>\n",
       "    </tr>\n",
       "    <tr>\n",
       "      <th>75%</th>\n",
       "      <td>1.000000</td>\n",
       "      <td>1.000000</td>\n",
       "      <td>11.000000</td>\n",
       "      <td>4.000000</td>\n",
       "      <td>9.945000e+06</td>\n",
       "    </tr>\n",
       "    <tr>\n",
       "      <th>max</th>\n",
       "      <td>49.000000</td>\n",
       "      <td>44.000000</td>\n",
       "      <td>145.000000</td>\n",
       "      <td>61.000000</td>\n",
       "      <td>9.953288e+07</td>\n",
       "    </tr>\n",
       "  </tbody>\n",
       "</table>\n",
       "</div>"
      ],
      "text/plain": [
       "       total_female   total_male  night_mainland  night_zanzibar    total_cost\n",
       "count   4806.000000  4804.000000     4809.000000     4809.000000  4.809000e+03\n",
       "mean       0.926758     1.009575        8.488043        2.304429  8.114389e+06\n",
       "std        1.288242     1.138865       10.427624        4.227080  1.222490e+07\n",
       "min        0.000000     0.000000        0.000000        0.000000  4.900000e+04\n",
       "25%        0.000000     1.000000        3.000000        0.000000  8.121750e+05\n",
       "50%        1.000000     1.000000        6.000000        0.000000  3.397875e+06\n",
       "75%        1.000000     1.000000       11.000000        4.000000  9.945000e+06\n",
       "max       49.000000    44.000000      145.000000       61.000000  9.953288e+07"
      ]
     },
     "execution_count": 23,
     "metadata": {},
     "output_type": "execute_result"
    }
   ],
   "source": [
    "TZ.describe()"
   ]
  },
  {
   "cell_type": "code",
   "execution_count": 24,
   "id": "4256d0df",
   "metadata": {},
   "outputs": [
    {
     "data": {
      "text/plain": [
       "ID                          0\n",
       "country                     0\n",
       "age_group                   0\n",
       "travel_with              1114\n",
       "total_female                3\n",
       "total_male                  5\n",
       "purpose                     0\n",
       "main_activity               0\n",
       "info_source                 0\n",
       "tour_arrangement            0\n",
       "package_transport_int       0\n",
       "package_accomodation        0\n",
       "package_food                0\n",
       "package_transport_tz        0\n",
       "package_sightseeing         0\n",
       "package_guided_tour         0\n",
       "package_insurance           0\n",
       "night_mainland              0\n",
       "night_zanzibar              0\n",
       "payment_mode                0\n",
       "first_trip_tz               0\n",
       "most_impressing           313\n",
       "total_cost                  0\n",
       "dtype: int64"
      ]
     },
     "execution_count": 24,
     "metadata": {},
     "output_type": "execute_result"
    }
   ],
   "source": [
    "TZ.isnull().sum()"
   ]
  },
  {
   "cell_type": "code",
   "execution_count": 25,
   "id": "28c50672",
   "metadata": {},
   "outputs": [],
   "source": [
    "TZ['travel_with'].fillna(value='Alone', inplace = True)"
   ]
  },
  {
   "cell_type": "code",
   "execution_count": 26,
   "id": "30752251",
   "metadata": {},
   "outputs": [],
   "source": [
    "TZ['most_impressing'].fillna(value = 'friendly people', inplace = True)"
   ]
  },
  {
   "cell_type": "code",
   "execution_count": 27,
   "id": "81877aeb",
   "metadata": {},
   "outputs": [],
   "source": [
    "TZ['total_male'].fillna(method = 'bfill',inplace=True)\n",
    "TZ['total_female'].fillna(method = 'bfill',inplace=True)"
   ]
  },
  {
   "cell_type": "code",
   "execution_count": 28,
   "id": "2d1615a0",
   "metadata": {},
   "outputs": [
    {
     "data": {
      "text/plain": [
       "ID                       0\n",
       "country                  0\n",
       "age_group                0\n",
       "travel_with              0\n",
       "total_female             0\n",
       "total_male               0\n",
       "purpose                  0\n",
       "main_activity            0\n",
       "info_source              0\n",
       "tour_arrangement         0\n",
       "package_transport_int    0\n",
       "package_accomodation     0\n",
       "package_food             0\n",
       "package_transport_tz     0\n",
       "package_sightseeing      0\n",
       "package_guided_tour      0\n",
       "package_insurance        0\n",
       "night_mainland           0\n",
       "night_zanzibar           0\n",
       "payment_mode             0\n",
       "first_trip_tz            0\n",
       "most_impressing          0\n",
       "total_cost               0\n",
       "dtype: int64"
      ]
     },
     "execution_count": 28,
     "metadata": {},
     "output_type": "execute_result"
    }
   ],
   "source": [
    "TZ.isnull().sum()"
   ]
  },
  {
   "cell_type": "code",
   "execution_count": 29,
   "id": "bfae351c",
   "metadata": {},
   "outputs": [
    {
     "data": {
      "text/plain": [
       "<seaborn.axisgrid.PairGrid at 0x26f1519bb80>"
      ]
     },
     "execution_count": 29,
     "metadata": {},
     "output_type": "execute_result"
    },
    {
     "data": {
      "image/png": "[encoded data removed]",
      "text/plain": [
       "<Figure size 900x900 with 30 Axes>"
      ]
     },
     "metadata": {
      "needs_background": "light"
     },
     "output_type": "display_data"
    }
   ],
   "source": [
    "## Exploratory Data Analysis (EDA)\n",
    "sns.pairplot(TZ)"
   ]
  },
  {
   "cell_type": "code",
   "execution_count": 30,
   "id": "3d308894",
   "metadata": {},
   "outputs": [
    {
     "data": {
      "text/plain": [
       "<seaborn.axisgrid.FacetGrid at 0x26f14bb3580>"
      ]
     },
     "execution_count": 30,
     "metadata": {},
     "output_type": "execute_result"
    },
    {
     "data": {
      "image/png": "[encoded data removed]",
      "text/plain": [
       "<Figure size 360x360 with 1 Axes>"
      ]
     },
     "metadata": {
      "needs_background": "light"
     },
     "output_type": "display_data"
    }
   ],
   "source": [
    "# import warnings\n",
    "# warnings.filterwarning('ignore')\n",
    "sns.displot(TZ ['total_cost']).set(title = 'Spending Distribution')"
   ]
  },
  {
   "cell_type": "code",
   "execution_count": 31,
   "id": "0544f53f",
   "metadata": {},
   "outputs": [
    {
     "data": {
      "text/plain": [
       "<seaborn.axisgrid.FacetGrid at 0x26f17edca00>"
      ]
     },
     "execution_count": 31,
     "metadata": {},
     "output_type": "execute_result"
    },
    {
     "data": {
      "image/png": "[encoded data removed]",
      "text/plain": [
       "<Figure size 360x360 with 1 Axes>"
      ]
     },
     "metadata": {
      "needs_background": "light"
     },
     "output_type": "display_data"
    }
   ],
   "source": [
    "sns.lmplot(y='total_cost',x='total_female', data= TZ)"
   ]
  },
  {
   "cell_type": "code",
   "execution_count": 32,
   "id": "ebd87966",
   "metadata": {},
   "outputs": [
    {
     "data": {
      "text/html": [
       "<div>\n",
       "<style scoped>\n",
       "    .dataframe tbody tr th:only-of-type {\n",
       "        vertical-align: middle;\n",
       "    }\n",
       "\n",
       "    .dataframe tbody tr th {\n",
       "        vertical-align: top;\n",
       "    }\n",
       "\n",
       "    .dataframe thead th {\n",
       "        text-align: right;\n",
       "    }\n",
       "</style>\n",
       "<table border=\"1\" class=\"dataframe\">\n",
       "  <thead>\n",
       "    <tr style=\"text-align: right;\">\n",
       "      <th></th>\n",
       "      <th>total_female</th>\n",
       "      <th>total_male</th>\n",
       "      <th>night_mainland</th>\n",
       "      <th>night_zanzibar</th>\n",
       "      <th>total_cost</th>\n",
       "    </tr>\n",
       "  </thead>\n",
       "  <tbody>\n",
       "    <tr>\n",
       "      <th>total_female</th>\n",
       "      <td>1.000000</td>\n",
       "      <td>0.467000</td>\n",
       "      <td>0.031233</td>\n",
       "      <td>0.138523</td>\n",
       "      <td>0.285862</td>\n",
       "    </tr>\n",
       "    <tr>\n",
       "      <th>total_male</th>\n",
       "      <td>0.467000</td>\n",
       "      <td>1.000000</td>\n",
       "      <td>-0.041369</td>\n",
       "      <td>0.050172</td>\n",
       "      <td>0.183785</td>\n",
       "    </tr>\n",
       "    <tr>\n",
       "      <th>night_mainland</th>\n",
       "      <td>0.031233</td>\n",
       "      <td>-0.041369</td>\n",
       "      <td>1.000000</td>\n",
       "      <td>-0.118155</td>\n",
       "      <td>0.020473</td>\n",
       "    </tr>\n",
       "    <tr>\n",
       "      <th>night_zanzibar</th>\n",
       "      <td>0.138523</td>\n",
       "      <td>0.050172</td>\n",
       "      <td>-0.118155</td>\n",
       "      <td>1.000000</td>\n",
       "      <td>0.145139</td>\n",
       "    </tr>\n",
       "    <tr>\n",
       "      <th>total_cost</th>\n",
       "      <td>0.285862</td>\n",
       "      <td>0.183785</td>\n",
       "      <td>0.020473</td>\n",
       "      <td>0.145139</td>\n",
       "      <td>1.000000</td>\n",
       "    </tr>\n",
       "  </tbody>\n",
       "</table>\n",
       "</div>"
      ],
      "text/plain": [
       "                total_female  total_male  night_mainland  night_zanzibar  \\\n",
       "total_female        1.000000    0.467000        0.031233        0.138523   \n",
       "total_male          0.467000    1.000000       -0.041369        0.050172   \n",
       "night_mainland      0.031233   -0.041369        1.000000       -0.118155   \n",
       "night_zanzibar      0.138523    0.050172       -0.118155        1.000000   \n",
       "total_cost          0.285862    0.183785        0.020473        0.145139   \n",
       "\n",
       "                total_cost  \n",
       "total_female      0.285862  \n",
       "total_male        0.183785  \n",
       "night_mainland    0.020473  \n",
       "night_zanzibar    0.145139  \n",
       "total_cost        1.000000  "
      ]
     },
     "execution_count": 32,
     "metadata": {},
     "output_type": "execute_result"
    }
   ],
   "source": [
    "TZ.corr()"
   ]
  },
  {
   "cell_type": "code",
   "execution_count": 15,
   "id": "57cc57b1",
   "metadata": {},
   "outputs": [
    {
     "data": {
      "text/plain": [
       "<AxesSubplot:>"
      ]
     },
     "execution_count": 15,
     "metadata": {},
     "output_type": "execute_result"
    },
    {
     "data": {
      "image/png": "[encoded data removed]",
      "text/plain": [
       "<Figure size 432x288 with 2 Axes>"
      ]
     },
     "metadata": {
      "needs_background": "light"
     },
     "output_type": "display_data"
    }
   ],
   "source": [
    "sns.heatmap(TZ.corr(), annot = True)"
   ]
  },
  {
   "cell_type": "code",
   "execution_count": 33,
   "id": "dfb5cae5",
   "metadata": {},
   "outputs": [
    {
     "data": {
      "text/html": [
       "<div>\n",
       "<style scoped>\n",
       "    .dataframe tbody tr th:only-of-type {\n",
       "        vertical-align: middle;\n",
       "    }\n",
       "\n",
       "    .dataframe tbody tr th {\n",
       "        vertical-align: top;\n",
       "    }\n",
       "\n",
       "    .dataframe thead th {\n",
       "        text-align: right;\n",
       "    }\n",
       "</style>\n",
       "<table border=\"1\" class=\"dataframe\">\n",
       "  <thead>\n",
       "    <tr style=\"text-align: right;\">\n",
       "      <th></th>\n",
       "      <th>total_cost</th>\n",
       "    </tr>\n",
       "    <tr>\n",
       "      <th>country</th>\n",
       "      <th></th>\n",
       "    </tr>\n",
       "  </thead>\n",
       "  <tbody>\n",
       "    <tr>\n",
       "      <th>CHINA</th>\n",
       "      <td>1657500.0</td>\n",
       "    </tr>\n",
       "    <tr>\n",
       "      <th>SOUTH AFRICA</th>\n",
       "      <td>466140.0</td>\n",
       "    </tr>\n",
       "    <tr>\n",
       "      <th>SWIZERLAND</th>\n",
       "      <td>674602.5</td>\n",
       "    </tr>\n",
       "    <tr>\n",
       "      <th>UNITED KINGDOM</th>\n",
       "      <td>14441106.5</td>\n",
       "    </tr>\n",
       "    <tr>\n",
       "      <th>UNITED STATES OF AMERICA</th>\n",
       "      <td>3480750.0</td>\n",
       "    </tr>\n",
       "  </tbody>\n",
       "</table>\n",
       "</div>"
      ],
      "text/plain": [
       "                          total_cost\n",
       "country                             \n",
       "CHINA                      1657500.0\n",
       "SOUTH AFRICA                466140.0\n",
       "SWIZERLAND                  674602.5\n",
       "UNITED KINGDOM            14441106.5\n",
       "UNITED STATES OF AMERICA   3480750.0"
      ]
     },
     "execution_count": 33,
     "metadata": {},
     "output_type": "execute_result"
    }
   ],
   "source": [
    "#the top 5 countries with the highest spending statistic ?  \n",
    "TZ.groupby('country')['total_cost'].value_counts().sort_values(ascending=True).head()\n",
    "countries = TZ[['country', 'total_cost']].head(8).groupby('country').sum()\n",
    "countries"
   ]
  },
  {
   "cell_type": "code",
   "execution_count": 34,
   "id": "8d3b9c44",
   "metadata": {},
   "outputs": [
    {
     "data": {
      "image/png": "[encoded data removed]",
      "text/plain": [
       "<Figure size 432x432 with 1 Axes>"
      ]
     },
     "metadata": {},
     "output_type": "display_data"
    }
   ],
   "source": [
    "ag_sp_tw = TZ.groupby(['country'])['total_cost'].sum().nlargest().plot(kind='pie',\n",
    "autopct = '%1.2f%%', colors=['r', 'blue', 'g', 'c'],title = ' Country with Highest Spendeing Statistics',\n",
    "explode = (0.1,0.1,0.1,0.1,0.1),shadow = True, figsize=[6,6],ylabel='')"
   ]
  },
  {
   "cell_type": "code",
   "execution_count": 39,
   "id": "faac7411",
   "metadata": {},
   "outputs": [
    {
     "data": {
      "text/html": [
       "<div>\n",
       "<style scoped>\n",
       "    .dataframe tbody tr th:only-of-type {\n",
       "        vertical-align: middle;\n",
       "    }\n",
       "\n",
       "    .dataframe tbody tr th {\n",
       "        vertical-align: top;\n",
       "    }\n",
       "\n",
       "    .dataframe thead th {\n",
       "        text-align: right;\n",
       "    }\n",
       "</style>\n",
       "<table border=\"1\" class=\"dataframe\">\n",
       "  <thead>\n",
       "    <tr style=\"text-align: right;\">\n",
       "      <th></th>\n",
       "      <th>total_cost</th>\n",
       "    </tr>\n",
       "    <tr>\n",
       "      <th>age_group</th>\n",
       "      <th></th>\n",
       "    </tr>\n",
       "  </thead>\n",
       "  <tbody>\n",
       "    <tr>\n",
       "      <th>1-24</th>\n",
       "      <td>3.379088e+09</td>\n",
       "    </tr>\n",
       "    <tr>\n",
       "      <th>25-44</th>\n",
       "      <td>1.498710e+10</td>\n",
       "    </tr>\n",
       "    <tr>\n",
       "      <th>45-64</th>\n",
       "      <td>1.537184e+10</td>\n",
       "    </tr>\n",
       "    <tr>\n",
       "      <th>65+</th>\n",
       "      <td>5.284068e+09</td>\n",
       "    </tr>\n",
       "  </tbody>\n",
       "</table>\n",
       "</div>"
      ],
      "text/plain": [
       "             total_cost\n",
       "age_group              \n",
       "1-24       3.379088e+09\n",
       "25-44      1.498710e+10\n",
       "45-64      1.537184e+10\n",
       "65+        5.284068e+09"
      ]
     },
     "execution_count": 39,
     "metadata": {},
     "output_type": "execute_result"
    }
   ],
   "source": [
    "# Age group with highest spenders\n",
    "Age.groupby('age_group').sum()"
   ]
  },
  {
   "cell_type": "code",
   "execution_count": 38,
   "id": "2764145d",
   "metadata": {},
   "outputs": [
    {
     "data": {
      "text/html": [
       "<div>\n",
       "<style scoped>\n",
       "    .dataframe tbody tr th:only-of-type {\n",
       "        vertical-align: middle;\n",
       "    }\n",
       "\n",
       "    .dataframe tbody tr th {\n",
       "        vertical-align: top;\n",
       "    }\n",
       "\n",
       "    .dataframe thead th {\n",
       "        text-align: right;\n",
       "    }\n",
       "</style>\n",
       "<table border=\"1\" class=\"dataframe\">\n",
       "  <thead>\n",
       "    <tr style=\"text-align: right;\">\n",
       "      <th></th>\n",
       "      <th>age_group</th>\n",
       "      <th>total_cost</th>\n",
       "      <th>travel_with</th>\n",
       "    </tr>\n",
       "  </thead>\n",
       "  <tbody>\n",
       "    <tr>\n",
       "      <th>0</th>\n",
       "      <td>45-64</td>\n",
       "      <td>674602.5</td>\n",
       "      <td>Friends/Relatives</td>\n",
       "    </tr>\n",
       "    <tr>\n",
       "      <th>1</th>\n",
       "      <td>25-44</td>\n",
       "      <td>3214906.5</td>\n",
       "      <td>Alone</td>\n",
       "    </tr>\n",
       "    <tr>\n",
       "      <th>2</th>\n",
       "      <td>25-44</td>\n",
       "      <td>3315000.0</td>\n",
       "      <td>Alone</td>\n",
       "    </tr>\n",
       "    <tr>\n",
       "      <th>3</th>\n",
       "      <td>25-44</td>\n",
       "      <td>7790250.0</td>\n",
       "      <td>Spouse</td>\n",
       "    </tr>\n",
       "    <tr>\n",
       "      <th>4</th>\n",
       "      <td>1-24</td>\n",
       "      <td>1657500.0</td>\n",
       "      <td>Alone</td>\n",
       "    </tr>\n",
       "    <tr>\n",
       "      <th>...</th>\n",
       "      <td>...</td>\n",
       "      <td>...</td>\n",
       "      <td>...</td>\n",
       "    </tr>\n",
       "    <tr>\n",
       "      <th>4804</th>\n",
       "      <td>45-64</td>\n",
       "      <td>3315000.0</td>\n",
       "      <td>Alone</td>\n",
       "    </tr>\n",
       "    <tr>\n",
       "      <th>4805</th>\n",
       "      <td>25-44</td>\n",
       "      <td>10690875.0</td>\n",
       "      <td>Spouse</td>\n",
       "    </tr>\n",
       "    <tr>\n",
       "      <th>4806</th>\n",
       "      <td>1-24</td>\n",
       "      <td>2246636.7</td>\n",
       "      <td>Alone</td>\n",
       "    </tr>\n",
       "    <tr>\n",
       "      <th>4807</th>\n",
       "      <td>25-44</td>\n",
       "      <td>1160250.0</td>\n",
       "      <td>Friends/Relatives</td>\n",
       "    </tr>\n",
       "    <tr>\n",
       "      <th>4808</th>\n",
       "      <td>25-44</td>\n",
       "      <td>13260000.0</td>\n",
       "      <td>Spouse</td>\n",
       "    </tr>\n",
       "  </tbody>\n",
       "</table>\n",
       "<p>4809 rows × 3 columns</p>\n",
       "</div>"
      ],
      "text/plain": [
       "     age_group  total_cost        travel_with\n",
       "0        45-64    674602.5  Friends/Relatives\n",
       "1        25-44   3214906.5              Alone\n",
       "2        25-44   3315000.0              Alone\n",
       "3        25-44   7790250.0             Spouse\n",
       "4         1-24   1657500.0              Alone\n",
       "...        ...         ...                ...\n",
       "4804     45-64   3315000.0              Alone\n",
       "4805     25-44  10690875.0             Spouse\n",
       "4806      1-24   2246636.7              Alone\n",
       "4807     25-44   1160250.0  Friends/Relatives\n",
       "4808     25-44  13260000.0             Spouse\n",
       "\n",
       "[4809 rows x 3 columns]"
      ]
     },
     "execution_count": 38,
     "metadata": {},
     "output_type": "execute_result"
    }
   ],
   "source": [
    "#the over all highest spenders by travel with? \n",
    "#TZ.groupby('total_cost')['age_group'].value_counts().sort_values(ascending=False).head()\n",
    "Age = TZ[['age_group', 'total_cost', 'travel_with']]\n",
    "Age"
   ]
  },
  {
   "cell_type": "code",
   "execution_count": 40,
   "id": "68c66e3b",
   "metadata": {},
   "outputs": [
    {
     "data": {
      "text/plain": [
       "age_group\n",
       "25-44        2487\n",
       "45-64        1391\n",
       "1-24          624\n",
       "65+           307\n",
       "dtype: int64"
      ]
     },
     "execution_count": 40,
     "metadata": {},
     "output_type": "execute_result"
    }
   ],
   "source": [
    "# Highest Age_group Tourist\n",
    "TZ[['age_group']].value_counts()"
   ]
  },
  {
   "cell_type": "code",
   "execution_count": 41,
   "id": "0658020b",
   "metadata": {},
   "outputs": [
    {
     "data": {
      "text/plain": [
       "<AxesSubplot:title={'center':' Highest_Age_Group_Tourist'}>"
      ]
     },
     "execution_count": 41,
     "metadata": {},
     "output_type": "execute_result"
    },
    {
     "data": {
      "image/png": "[encoded data removed]",
      "text/plain": [
       "<Figure size 432x432 with 1 Axes>"
      ]
     },
     "metadata": {},
     "output_type": "display_data"
    }
   ],
   "source": [
    "TZ.head(8).value_counts('age_group').plot(kind = 'pie',autopct = '%1.2f%%',\n",
    "title= ' Highest_Age_Group_Tourist',\n",
    "explode = (0.1,0.1,0.1),shadow = True, figsize=[6,6],ylabel='')"
   ]
  },
  {
   "cell_type": "code",
   "execution_count": 42,
   "id": "7a5f98ea",
   "metadata": {},
   "outputs": [
    {
     "data": {
      "image/png": "[encoded data removed]",
      "text/plain": [
       "<Figure size 432x432 with 1 Axes>"
      ]
     },
     "metadata": {},
     "output_type": "display_data"
    }
   ],
   "source": [
    "# Age_group with highest spender\n",
    "ag_sp_tw = TZ.groupby(['age_group'])['total_cost'].sum().nlargest().plot(kind='pie',\n",
    "autopct = '%1.2f%%', colors=['r', 'blue', 'g', 'c'],title = ' Age_Group with Highest Spenders',\n",
    "explode = (0.1,0.1,0.1,0.1),shadow = True, figsize=[6,6],ylabel='')"
   ]
  },
  {
   "cell_type": "code",
   "execution_count": 43,
   "id": "503df91b",
   "metadata": {},
   "outputs": [
    {
     "data": {
      "text/plain": [
       "<AxesSubplot:title={'center':' Age_Group with Highest Spenders'}, xlabel='age_group'>"
      ]
     },
     "execution_count": 43,
     "metadata": {},
     "output_type": "execute_result"
    },
    {
     "data": {
      "image/png": "[encoded data removed]",
      "text/plain": [
       "<Figure size 432x288 with 1 Axes>"
      ]
     },
     "metadata": {
      "needs_background": "light"
     },
     "output_type": "display_data"
    }
   ],
   "source": [
    "# sns.barplot(y='total_cost', x='age_group', data=TZ)\n",
    "TZ.groupby(['age_group'])['total_cost'].sum().plot(kind='bar',title = ' Age_Group with Highest Spenders',color='r')\n"
   ]
  },
  {
   "cell_type": "code",
   "execution_count": 44,
   "id": "4399c36f",
   "metadata": {},
   "outputs": [
    {
     "data": {
      "text/html": [
       "<div>\n",
       "<style scoped>\n",
       "    .dataframe tbody tr th:only-of-type {\n",
       "        vertical-align: middle;\n",
       "    }\n",
       "\n",
       "    .dataframe tbody tr th {\n",
       "        vertical-align: top;\n",
       "    }\n",
       "\n",
       "    .dataframe thead th {\n",
       "        text-align: right;\n",
       "    }\n",
       "</style>\n",
       "<table border=\"1\" class=\"dataframe\">\n",
       "  <thead>\n",
       "    <tr style=\"text-align: right;\">\n",
       "      <th></th>\n",
       "      <th>travel_with</th>\n",
       "    </tr>\n",
       "    <tr>\n",
       "      <th>total_cost</th>\n",
       "      <th></th>\n",
       "    </tr>\n",
       "  </thead>\n",
       "  <tbody>\n",
       "    <tr>\n",
       "      <th>120950.0</th>\n",
       "      <td>Alone</td>\n",
       "    </tr>\n",
       "    <tr>\n",
       "      <th>466140.0</th>\n",
       "      <td>Alone</td>\n",
       "    </tr>\n",
       "    <tr>\n",
       "      <th>674602.5</th>\n",
       "      <td>Friends/Relatives</td>\n",
       "    </tr>\n",
       "    <tr>\n",
       "      <th>1657500.0</th>\n",
       "      <td>Alone</td>\n",
       "    </tr>\n",
       "    <tr>\n",
       "      <th>3214906.5</th>\n",
       "      <td>Alone</td>\n",
       "    </tr>\n",
       "    <tr>\n",
       "      <th>3315000.0</th>\n",
       "      <td>Alone</td>\n",
       "    </tr>\n",
       "    <tr>\n",
       "      <th>3480750.0</th>\n",
       "      <td>Friends/Relatives</td>\n",
       "    </tr>\n",
       "    <tr>\n",
       "      <th>7790250.0</th>\n",
       "      <td>Spouse</td>\n",
       "    </tr>\n",
       "  </tbody>\n",
       "</table>\n",
       "</div>"
      ],
      "text/plain": [
       "                  travel_with\n",
       "total_cost                   \n",
       "120950.0                Alone\n",
       "466140.0                Alone\n",
       "674602.5    Friends/Relatives\n",
       "1657500.0               Alone\n",
       "3214906.5               Alone\n",
       "3315000.0               Alone\n",
       "3480750.0   Friends/Relatives\n",
       "7790250.0              Spouse"
      ]
     },
     "execution_count": 44,
     "metadata": {},
     "output_type": "execute_result"
    }
   ],
   "source": [
    "travel_with=TZ[['total_cost','travel_with']].head(8).groupby('total_cost').sum()\n",
    "travel_with"
   ]
  },
  {
   "cell_type": "code",
   "execution_count": 45,
   "id": "000ca51b",
   "metadata": {},
   "outputs": [
    {
     "data": {
      "text/plain": [
       "<AxesSubplot:xlabel='age_group', ylabel='total_cost'>"
      ]
     },
     "execution_count": 45,
     "metadata": {},
     "output_type": "execute_result"
    },
    {
     "data": {
      "image/png": "[encoded data removed]",
      "text/plain": [
       "<Figure size 432x288 with 1 Axes>"
      ]
     },
     "metadata": {
      "needs_background": "light"
     },
     "output_type": "display_data"
    }
   ],
   "source": [
    "sns.barplot(x = 'age_group', y = 'total_cost', hue = 'travel_with', data = TZ)"
   ]
  },
  {
   "cell_type": "code",
   "execution_count": 46,
   "id": "8592d8e4",
   "metadata": {},
   "outputs": [
    {
     "data": {
      "text/plain": [
       "' This Visualization shows age 25_44 Having the Highest Spending,though no much difference with others'"
      ]
     },
     "execution_count": 46,
     "metadata": {},
     "output_type": "execute_result"
    },
    {
     "data": {
      "image/png": "[encoded data removed]",
      "text/plain": [
       "<Figure size 432x432 with 1 Axes>"
      ]
     },
     "metadata": {},
     "output_type": "display_data"
    }
   ],
   "source": [
    "ag_sp_tw = TZ.groupby(['age_group', 'travel_with'])['total_cost'].sum().nlargest().plot(kind='pie',\n",
    "autopct = '%1.2f%%', colors=['r', 'blue', 'y', 'g', 'c'],title = 'Travel_with By Age_Group Spenders',\n",
    "explode = (0.1,0.1,0.1,0.1,0.1), shadow = True, figsize=[6,6],ylabel='')\n",
    "\"\"\" This Visualization shows age 25_44 Having the Highest Spending,though no much difference with others\"\"\""
   ]
  },
  {
   "cell_type": "code",
   "execution_count": 47,
   "id": "ac2a2e19",
   "metadata": {},
   "outputs": [
    {
     "data": {
      "text/plain": [
       "country                   main_activity   \n",
       "UNITED STATES OF AMERICA  Wildlife tourism    456\n",
       "UNITED KINGDOM            Wildlife tourism    230\n",
       "ITALY                     Beach tourism       210\n",
       "FRANCE                    Wildlife tourism    165\n",
       "AUSTRALIA                 Wildlife tourism    131\n",
       "Name: main_activity, dtype: int64"
      ]
     },
     "execution_count": 47,
     "metadata": {},
     "output_type": "execute_result"
    }
   ],
   "source": [
    "TZ.groupby('country')['main_activity'].value_counts().sort_values(ascending=False).head()"
   ]
  },
  {
   "cell_type": "code",
   "execution_count": 48,
   "id": "f7e45d4a",
   "metadata": {},
   "outputs": [
    {
     "data": {
      "text/plain": [
       "8.488043252235393"
      ]
     },
     "execution_count": 48,
     "metadata": {},
     "output_type": "execute_result"
    }
   ],
   "source": [
    "#average number of nights a toursits spends in Tanzania mainland?\n",
    "TZ['night_mainland'].mean()"
   ]
  },
  {
   "cell_type": "code",
   "execution_count": 49,
   "id": "778c6f94",
   "metadata": {},
   "outputs": [
    {
     "data": {
      "text/plain": [
       "2.30442919525889"
      ]
     },
     "execution_count": 49,
     "metadata": {},
     "output_type": "execute_result"
    }
   ],
   "source": [
    "#average number of nights a toursits spends in Zanzibar?\n",
    "TZ['night_zanzibar'].mean()"
   ]
  },
  {
   "cell_type": "code",
   "execution_count": 50,
   "id": "20b419ef",
   "metadata": {},
   "outputs": [
    {
     "data": {
      "text/plain": [
       "<AxesSubplot:xlabel='payment_mode', ylabel='count'>"
      ]
     },
     "execution_count": 50,
     "metadata": {},
     "output_type": "execute_result"
    },
    {
     "data": {
      "image/png": "[encoded data removed]",
      "text/plain": [
       "<Figure size 432x288 with 1 Axes>"
      ]
     },
     "metadata": {
      "needs_background": "light"
     },
     "output_type": "display_data"
    }
   ],
   "source": [
    "#the most prefered payment mode by tourists?\n",
    "sns.countplot(data=TZ, x='payment_mode')"
   ]
  },
  {
   "cell_type": "code",
   "execution_count": 51,
   "id": "e5c060e5",
   "metadata": {},
   "outputs": [
    {
     "data": {
      "text/plain": [
       "<AxesSubplot:xlabel='count', ylabel='main_activity'>"
      ]
     },
     "execution_count": 51,
     "metadata": {},
     "output_type": "execute_result"
    },
    {
     "data": {
      "image/png": "[encoded data removed]",
      "text/plain": [
       "<Figure size 432x288 with 1 Axes>"
      ]
     },
     "metadata": {
      "needs_background": "light"
     },
     "output_type": "display_data"
    }
   ],
   "source": [
    "# Aspects of tourism that are more profitable and in which it is worthwhile to invest in\n",
    "sns.countplot(data = TZ, y = 'main_activity')"
   ]
  },
  {
   "cell_type": "code",
   "execution_count": 52,
   "id": "56b1bb07",
   "metadata": {},
   "outputs": [
    {
     "data": {
      "text/plain": [
       "0        No\n",
       "1        No\n",
       "2        No\n",
       "3       Yes\n",
       "4        No\n",
       "       ... \n",
       "4804     No\n",
       "4805    Yes\n",
       "4806     No\n",
       "4807    Yes\n",
       "4808    Yes\n",
       "Name: package_food, Length: 4809, dtype: object"
      ]
     },
     "execution_count": 52,
     "metadata": {},
     "output_type": "execute_result"
    }
   ],
   "source": [
    "TZ['package_food']"
   ]
  },
  {
   "cell_type": "code",
   "execution_count": 53,
   "id": "92e304b7",
   "metadata": {},
   "outputs": [
    {
     "data": {
      "text/plain": [
       "<seaborn.axisgrid.FacetGrid at 0x26f19769400>"
      ]
     },
     "execution_count": 53,
     "metadata": {},
     "output_type": "execute_result"
    },
    {
     "data": {
      "image/png": "[encoded data removed]",
      "text/plain": [
       "<Figure size 360x360 with 1 Axes>"
      ]
     },
     "metadata": {
      "needs_background": "light"
     },
     "output_type": "display_data"
    }
   ],
   "source": [
    "sns.catplot(data = TZ, x = 'package_food', kind = 'count')"
   ]
  },
  {
   "cell_type": "code",
   "execution_count": 54,
   "id": "7dbcb4ec",
   "metadata": {},
   "outputs": [
    {
     "data": {
      "text/plain": [
       "Index(['ID', 'country', 'age_group', 'travel_with', 'total_female',\n",
       "       'total_male', 'purpose', 'main_activity', 'info_source',\n",
       "       'tour_arrangement', 'package_transport_int', 'package_accomodation',\n",
       "       'package_food', 'package_transport_tz', 'package_sightseeing',\n",
       "       'package_guided_tour', 'package_insurance', 'night_mainland',\n",
       "       'night_zanzibar', 'payment_mode', 'first_trip_tz', 'most_impressing',\n",
       "       'total_cost'],\n",
       "      dtype='object')"
      ]
     },
     "execution_count": 54,
     "metadata": {},
     "output_type": "execute_result"
    }
   ],
   "source": [
    "TZ.columns"
   ]
  },
  {
   "cell_type": "markdown",
   "id": "d7fd511d",
   "metadata": {},
   "source": [
    "# Preparing Data for Modelling"
   ]
  },
  {
   "cell_type": "markdown",
   "id": "59cd7dac",
   "metadata": {},
   "source": [
    "feature variables"
   ]
  },
  {
   "cell_type": "code",
   "execution_count": 55,
   "id": "e34c034d",
   "metadata": {},
   "outputs": [],
   "source": [
    "# x array are features to train on\n",
    "x =TZ[[ 'total_female', 'total_male', 'night_mainland','night_zanzibar']]"
   ]
  },
  {
   "cell_type": "code",
   "execution_count": 56,
   "id": "993f802d",
   "metadata": {},
   "outputs": [],
   "source": [
    "# target variable\n",
    "y = TZ[['total_cost']]"
   ]
  },
  {
   "cell_type": "code",
   "execution_count": 57,
   "id": "624414e1",
   "metadata": {},
   "outputs": [],
   "source": [
    "from sklearn.model_selection import train_test_split"
   ]
  },
  {
   "cell_type": "code",
   "execution_count": 58,
   "id": "02b379ef",
   "metadata": {},
   "outputs": [],
   "source": [
    "x_test,x_train,y_test,y_train=train_test_split(x,y,test_size=0.4,random_state=101)"
   ]
  },
  {
   "cell_type": "markdown",
   "id": "11c217bf",
   "metadata": {},
   "source": [
    "## Building a Regression Model"
   ]
  },
  {
   "cell_type": "code",
   "execution_count": 59,
   "id": "4df71640",
   "metadata": {},
   "outputs": [],
   "source": [
    "#creating and training  the model"
   ]
  },
  {
   "cell_type": "code",
   "execution_count": 60,
   "id": "563e3e03",
   "metadata": {},
   "outputs": [],
   "source": [
    "from sklearn.linear_model import LinearRegression"
   ]
  },
  {
   "cell_type": "code",
   "execution_count": 61,
   "id": "76812a16",
   "metadata": {},
   "outputs": [],
   "source": [
    "# instantiate model"
   ]
  },
  {
   "cell_type": "code",
   "execution_count": 62,
   "id": "7c463b2d",
   "metadata": {},
   "outputs": [],
   "source": [
    "lm = LinearRegression()"
   ]
  },
  {
   "cell_type": "code",
   "execution_count": 63,
   "id": "6bbf9b5a",
   "metadata": {},
   "outputs": [
    {
     "data": {
      "text/plain": [
       "LinearRegression()"
      ]
     },
     "execution_count": 63,
     "metadata": {},
     "output_type": "execute_result"
    }
   ],
   "source": [
    "lm.fit(x_train, y_train)"
   ]
  },
  {
   "cell_type": "code",
   "execution_count": 64,
   "id": "3d4a32d2",
   "metadata": {},
   "outputs": [
    {
     "name": "stdout",
     "output_type": "stream",
     "text": [
      "[2020891.56935148]\n"
     ]
    }
   ],
   "source": [
    "print(lm.intercept_)"
   ]
  },
  {
   "cell_type": "code",
   "execution_count": 65,
   "id": "dfe87035",
   "metadata": {},
   "outputs": [
    {
     "data": {
      "text/plain": [
       "array([[3371231.16121926, 2322321.80610723,   30560.6777629 ,\n",
       "         155469.48356671]])"
      ]
     },
     "execution_count": 65,
     "metadata": {},
     "output_type": "execute_result"
    }
   ],
   "source": [
    "lm.coef_"
   ]
  },
  {
   "cell_type": "code",
   "execution_count": 66,
   "id": "5dd23236",
   "metadata": {},
   "outputs": [
    {
     "data": {
      "text/plain": [
       "array([[3371231.16121926, 2322321.80610723,   30560.6777629 ,\n",
       "         155469.48356671]])"
      ]
     },
     "execution_count": 66,
     "metadata": {},
     "output_type": "execute_result"
    }
   ],
   "source": [
    "lm.coef_"
   ]
  },
  {
   "cell_type": "code",
   "execution_count": 67,
   "id": "9c90d461",
   "metadata": {},
   "outputs": [
    {
     "data": {
      "text/plain": [
       "Index(['total_female', 'total_male', 'night_mainland', 'night_zanzibar'], dtype='object')"
      ]
     },
     "execution_count": 67,
     "metadata": {},
     "output_type": "execute_result"
    }
   ],
   "source": [
    "x_train.columns"
   ]
  },
  {
   "cell_type": "markdown",
   "id": "c04b13a5",
   "metadata": {},
   "source": [
    "## Evaluate Model Performances"
   ]
  },
  {
   "cell_type": "code",
   "execution_count": 68,
   "id": "fdc19f30",
   "metadata": {},
   "outputs": [],
   "source": [
    "prediction = lm.predict(x_test)\n"
   ]
  },
  {
   "cell_type": "code",
   "execution_count": 69,
   "id": "a6aa5986",
   "metadata": {},
   "outputs": [
    {
     "data": {
      "text/plain": [
       "array([[ 4434895.40874742],\n",
       "       [ 6024050.65241843],\n",
       "       [39900186.34146449],\n",
       "       ...,\n",
       "       [11615785.57140944],\n",
       "       [ 8519686.53752223],\n",
       "       [ 9016655.66598526]])"
      ]
     },
     "execution_count": 69,
     "metadata": {},
     "output_type": "execute_result"
    }
   ],
   "source": [
    "#predicted spending cost of tourist\n",
    "prediction"
   ]
  },
  {
   "cell_type": "code",
   "execution_count": 70,
   "id": "444b98ed",
   "metadata": {},
   "outputs": [
    {
     "data": {
      "text/html": [
       "<div>\n",
       "<style scoped>\n",
       "    .dataframe tbody tr th:only-of-type {\n",
       "        vertical-align: middle;\n",
       "    }\n",
       "\n",
       "    .dataframe tbody tr th {\n",
       "        vertical-align: top;\n",
       "    }\n",
       "\n",
       "    .dataframe thead th {\n",
       "        text-align: right;\n",
       "    }\n",
       "</style>\n",
       "<table border=\"1\" class=\"dataframe\">\n",
       "  <thead>\n",
       "    <tr style=\"text-align: right;\">\n",
       "      <th></th>\n",
       "      <th>total_cost</th>\n",
       "    </tr>\n",
       "  </thead>\n",
       "  <tbody>\n",
       "    <tr>\n",
       "      <th>4273</th>\n",
       "      <td>3.550000e+05</td>\n",
       "    </tr>\n",
       "    <tr>\n",
       "      <th>1738</th>\n",
       "      <td>1.390972e+05</td>\n",
       "    </tr>\n",
       "    <tr>\n",
       "      <th>4666</th>\n",
       "      <td>1.657500e+06</td>\n",
       "    </tr>\n",
       "    <tr>\n",
       "      <th>4602</th>\n",
       "      <td>2.269330e+05</td>\n",
       "    </tr>\n",
       "    <tr>\n",
       "      <th>4020</th>\n",
       "      <td>5.055375e+06</td>\n",
       "    </tr>\n",
       "    <tr>\n",
       "      <th>...</th>\n",
       "      <td>...</td>\n",
       "    </tr>\n",
       "    <tr>\n",
       "      <th>4079</th>\n",
       "      <td>7.226700e+06</td>\n",
       "    </tr>\n",
       "    <tr>\n",
       "      <th>4171</th>\n",
       "      <td>6.807990e+06</td>\n",
       "    </tr>\n",
       "    <tr>\n",
       "      <th>599</th>\n",
       "      <td>1.243125e+07</td>\n",
       "    </tr>\n",
       "    <tr>\n",
       "      <th>1361</th>\n",
       "      <td>1.657500e+07</td>\n",
       "    </tr>\n",
       "    <tr>\n",
       "      <th>1547</th>\n",
       "      <td>3.812250e+06</td>\n",
       "    </tr>\n",
       "  </tbody>\n",
       "</table>\n",
       "<p>2885 rows × 1 columns</p>\n",
       "</div>"
      ],
      "text/plain": [
       "        total_cost\n",
       "4273  3.550000e+05\n",
       "1738  1.390972e+05\n",
       "4666  1.657500e+06\n",
       "4602  2.269330e+05\n",
       "4020  5.055375e+06\n",
       "...            ...\n",
       "4079  7.226700e+06\n",
       "4171  6.807990e+06\n",
       "599   1.243125e+07\n",
       "1361  1.657500e+07\n",
       "1547  3.812250e+06\n",
       "\n",
       "[2885 rows x 1 columns]"
      ]
     },
     "execution_count": 70,
     "metadata": {},
     "output_type": "execute_result"
    }
   ],
   "source": [
    "# y_test containg the original spending cost\n",
    "y_test"
   ]
  },
  {
   "cell_type": "code",
   "execution_count": 71,
   "id": "926affa8",
   "metadata": {},
   "outputs": [],
   "source": [
    "from sklearn.metrics import r2_score,mean_absolute_error, mean_squared_error"
   ]
  },
  {
   "cell_type": "code",
   "execution_count": 72,
   "id": "5428fd29",
   "metadata": {},
   "outputs": [],
   "source": [
    "r_squared= lm.score(x,y)"
   ]
  },
  {
   "cell_type": "code",
   "execution_count": 73,
   "id": "b32a7fa3",
   "metadata": {},
   "outputs": [
    {
     "name": "stdout",
     "output_type": "stream",
     "text": [
      "0.044664160874280046\n"
     ]
    }
   ],
   "source": [
    "print(r_squared)"
   ]
  },
  {
   "cell_type": "code",
   "execution_count": 74,
   "id": "a414da68",
   "metadata": {},
   "outputs": [],
   "source": [
    "r_squared = lm.score(x_test,prediction)"
   ]
  },
  {
   "cell_type": "code",
   "execution_count": 75,
   "id": "e182dbb3",
   "metadata": {},
   "outputs": [
    {
     "name": "stdout",
     "output_type": "stream",
     "text": [
      "1.0\n"
     ]
    }
   ],
   "source": [
    "print(r_squared)"
   ]
  },
  {
   "cell_type": "code",
   "execution_count": 76,
   "id": "d5dcf530",
   "metadata": {},
   "outputs": [],
   "source": [
    "score = r2_score(y_test,prediction)\n"
   ]
  },
  {
   "cell_type": "code",
   "execution_count": 77,
   "id": "57d01e5a",
   "metadata": {},
   "outputs": [],
   "source": [
    "import numpy as np\n",
    "mae = mean_absolute_error(y_test,prediction)"
   ]
  },
  {
   "cell_type": "code",
   "execution_count": 78,
   "id": "d1a2810f",
   "metadata": {},
   "outputs": [],
   "source": [
    "mse = mean_squared_error( y_test,prediction)"
   ]
  },
  {
   "cell_type": "code",
   "execution_count": 79,
   "id": "6968a9de",
   "metadata": {},
   "outputs": [],
   "source": [
    "rmse = np.sqrt(mse)"
   ]
  },
  {
   "cell_type": "code",
   "execution_count": 80,
   "id": "745a780d",
   "metadata": {},
   "outputs": [
    {
     "name": "stdout",
     "output_type": "stream",
     "text": [
      "7239433.410602457\n",
      "155960160178004.84\n",
      "12488401.025671976\n",
      "-0.027174491091367825\n"
     ]
    }
   ],
   "source": [
    "print(mae)\n",
    "print(mse)\n",
    "print(rmse)\n",
    "print(score)"
   ]
  },
  {
   "cell_type": "code",
   "execution_count": 81,
   "id": "f201a403",
   "metadata": {},
   "outputs": [
    {
     "name": "stderr",
     "output_type": "stream",
     "text": [
      "C:\\Users\\user\\anaconda3\\lib\\site-packages\\seaborn\\distributions.py:2557: FutureWarning: `distplot` is a deprecated function and will be removed in a future version. Please adapt your code to use either `displot` (a figure-level function with similar flexibility) or `histplot` (an axes-level function for histograms).\n",
      "  warnings.warn(msg, FutureWarning)\n"
     ]
    },
    {
     "data": {
      "text/plain": [
       "<AxesSubplot:ylabel='Density'>"
      ]
     },
     "execution_count": 81,
     "metadata": {},
     "output_type": "execute_result"
    },
    {
     "data": {
      "image/png": "[encoded data removed]",
      "text/plain": [
       "<Figure size 432x288 with 1 Axes>"
      ]
     },
     "metadata": {
      "needs_background": "light"
     },
     "output_type": "display_data"
    }
   ],
   "source": [
    "# A histogram of the residuals. the residuals look to be normally distributed\n",
    "# import warnings\n",
    "# warnings.filterwarning('ignore')\n",
    "sns.distplot(y_test-prediction)"
   ]
  },
  {
   "cell_type": "code",
   "execution_count": 82,
   "id": "9e1fea3d",
   "metadata": {},
   "outputs": [
    {
     "data": {
      "text/plain": [
       "<matplotlib.collections.PathCollection at 0x26f1a1261f0>"
      ]
     },
     "execution_count": 82,
     "metadata": {},
     "output_type": "execute_result"
    },
    {
     "data": {
      "image/png": "[encoded data removed]",
      "text/plain": [
       "<Figure size 432x288 with 1 Axes>"
      ]
     },
     "metadata": {
      "needs_background": "light"
     },
     "output_type": "display_data"
    }
   ],
   "source": [
    "# comparing y_test to the prediction to find the residuals\n",
    "plt.scatter(y_test,prediction)"
   ]
  },
  {
   "cell_type": "code",
   "execution_count": null,
   "id": "5894d893",
   "metadata": {},
   "outputs": [],
   "source": []
  },
  {
   "cell_type": "markdown",
   "id": "27e52aa6",
   "metadata": {},
   "source": [
    "## Testing Linear Model Assumptions"
   ]
  },
  {
   "cell_type": "markdown",
   "id": "6adc4667",
   "metadata": {},
   "source": [
    "using or importing another dataset to test our model performance."
   ]
  },
  {
   "cell_type": "code",
   "execution_count": 83,
   "id": "bccab85f",
   "metadata": {},
   "outputs": [],
   "source": [
    "from sklearn.svm import SVC"
   ]
  },
  {
   "cell_type": "code",
   "execution_count": 84,
   "id": "ab1f8f78",
   "metadata": {},
   "outputs": [],
   "source": [
    "tz = pd.read_csv('Test .csv')"
   ]
  },
  {
   "cell_type": "code",
   "execution_count": 85,
   "id": "649ee811",
   "metadata": {},
   "outputs": [
    {
     "data": {
      "text/html": [
       "<div>\n",
       "<style scoped>\n",
       "    .dataframe tbody tr th:only-of-type {\n",
       "        vertical-align: middle;\n",
       "    }\n",
       "\n",
       "    .dataframe tbody tr th {\n",
       "        vertical-align: top;\n",
       "    }\n",
       "\n",
       "    .dataframe thead th {\n",
       "        text-align: right;\n",
       "    }\n",
       "</style>\n",
       "<table border=\"1\" class=\"dataframe\">\n",
       "  <thead>\n",
       "    <tr style=\"text-align: right;\">\n",
       "      <th></th>\n",
       "      <th>ID</th>\n",
       "      <th>country</th>\n",
       "      <th>age_group</th>\n",
       "      <th>travel_with</th>\n",
       "      <th>total_female</th>\n",
       "      <th>total_male</th>\n",
       "      <th>purpose</th>\n",
       "      <th>main_activity</th>\n",
       "      <th>info_source</th>\n",
       "      <th>tour_arrangement</th>\n",
       "      <th>...</th>\n",
       "      <th>package_food</th>\n",
       "      <th>package_transport_tz</th>\n",
       "      <th>package_sightseeing</th>\n",
       "      <th>package_guided_tour</th>\n",
       "      <th>package_insurance</th>\n",
       "      <th>night_mainland</th>\n",
       "      <th>night_zanzibar</th>\n",
       "      <th>payment_mode</th>\n",
       "      <th>first_trip_tz</th>\n",
       "      <th>most_impressing</th>\n",
       "    </tr>\n",
       "  </thead>\n",
       "  <tbody>\n",
       "    <tr>\n",
       "      <th>0</th>\n",
       "      <td>tour_1</td>\n",
       "      <td>AUSTRALIA</td>\n",
       "      <td>45-64</td>\n",
       "      <td>Spouse</td>\n",
       "      <td>1.0</td>\n",
       "      <td>1.0</td>\n",
       "      <td>Leisure and Holidays</td>\n",
       "      <td>Wildlife tourism</td>\n",
       "      <td>Travel, agent, tour operator</td>\n",
       "      <td>Package Tour</td>\n",
       "      <td>...</td>\n",
       "      <td>Yes</td>\n",
       "      <td>Yes</td>\n",
       "      <td>Yes</td>\n",
       "      <td>Yes</td>\n",
       "      <td>Yes</td>\n",
       "      <td>10</td>\n",
       "      <td>3</td>\n",
       "      <td>Cash</td>\n",
       "      <td>Yes</td>\n",
       "      <td>Wildlife</td>\n",
       "    </tr>\n",
       "    <tr>\n",
       "      <th>1</th>\n",
       "      <td>tour_100</td>\n",
       "      <td>SOUTH AFRICA</td>\n",
       "      <td>25-44</td>\n",
       "      <td>Friends/Relatives</td>\n",
       "      <td>0.0</td>\n",
       "      <td>4.0</td>\n",
       "      <td>Business</td>\n",
       "      <td>Wildlife tourism</td>\n",
       "      <td>Tanzania Mission Abroad</td>\n",
       "      <td>Package Tour</td>\n",
       "      <td>...</td>\n",
       "      <td>No</td>\n",
       "      <td>No</td>\n",
       "      <td>No</td>\n",
       "      <td>No</td>\n",
       "      <td>No</td>\n",
       "      <td>13</td>\n",
       "      <td>0</td>\n",
       "      <td>Cash</td>\n",
       "      <td>No</td>\n",
       "      <td>Wonderful Country, Landscape, Nature</td>\n",
       "    </tr>\n",
       "    <tr>\n",
       "      <th>2</th>\n",
       "      <td>tour_1001</td>\n",
       "      <td>GERMANY</td>\n",
       "      <td>25-44</td>\n",
       "      <td>Friends/Relatives</td>\n",
       "      <td>3.0</td>\n",
       "      <td>0.0</td>\n",
       "      <td>Leisure and Holidays</td>\n",
       "      <td>Beach tourism</td>\n",
       "      <td>Friends, relatives</td>\n",
       "      <td>Independent</td>\n",
       "      <td>...</td>\n",
       "      <td>No</td>\n",
       "      <td>No</td>\n",
       "      <td>No</td>\n",
       "      <td>No</td>\n",
       "      <td>No</td>\n",
       "      <td>7</td>\n",
       "      <td>14</td>\n",
       "      <td>Cash</td>\n",
       "      <td>No</td>\n",
       "      <td>No comments</td>\n",
       "    </tr>\n",
       "    <tr>\n",
       "      <th>3</th>\n",
       "      <td>tour_1006</td>\n",
       "      <td>CANADA</td>\n",
       "      <td>24-Jan</td>\n",
       "      <td>Friends/Relatives</td>\n",
       "      <td>2.0</td>\n",
       "      <td>0.0</td>\n",
       "      <td>Leisure and Holidays</td>\n",
       "      <td>Cultural tourism</td>\n",
       "      <td>others</td>\n",
       "      <td>Independent</td>\n",
       "      <td>...</td>\n",
       "      <td>No</td>\n",
       "      <td>No</td>\n",
       "      <td>No</td>\n",
       "      <td>No</td>\n",
       "      <td>No</td>\n",
       "      <td>0</td>\n",
       "      <td>4</td>\n",
       "      <td>Cash</td>\n",
       "      <td>Yes</td>\n",
       "      <td>Friendly People</td>\n",
       "    </tr>\n",
       "    <tr>\n",
       "      <th>4</th>\n",
       "      <td>tour_1009</td>\n",
       "      <td>UNITED KINGDOM</td>\n",
       "      <td>45-64</td>\n",
       "      <td>Friends/Relatives</td>\n",
       "      <td>2.0</td>\n",
       "      <td>2.0</td>\n",
       "      <td>Leisure and Holidays</td>\n",
       "      <td>Wildlife tourism</td>\n",
       "      <td>Friends, relatives</td>\n",
       "      <td>Package Tour</td>\n",
       "      <td>...</td>\n",
       "      <td>Yes</td>\n",
       "      <td>Yes</td>\n",
       "      <td>No</td>\n",
       "      <td>No</td>\n",
       "      <td>No</td>\n",
       "      <td>10</td>\n",
       "      <td>0</td>\n",
       "      <td>Cash</td>\n",
       "      <td>Yes</td>\n",
       "      <td>Friendly People</td>\n",
       "    </tr>\n",
       "    <tr>\n",
       "      <th>...</th>\n",
       "      <td>...</td>\n",
       "      <td>...</td>\n",
       "      <td>...</td>\n",
       "      <td>...</td>\n",
       "      <td>...</td>\n",
       "      <td>...</td>\n",
       "      <td>...</td>\n",
       "      <td>...</td>\n",
       "      <td>...</td>\n",
       "      <td>...</td>\n",
       "      <td>...</td>\n",
       "      <td>...</td>\n",
       "      <td>...</td>\n",
       "      <td>...</td>\n",
       "      <td>...</td>\n",
       "      <td>...</td>\n",
       "      <td>...</td>\n",
       "      <td>...</td>\n",
       "      <td>...</td>\n",
       "      <td>...</td>\n",
       "      <td>...</td>\n",
       "    </tr>\n",
       "    <tr>\n",
       "      <th>1596</th>\n",
       "      <td>tour_988</td>\n",
       "      <td>UNITED STATES OF AMERICA</td>\n",
       "      <td>25-44</td>\n",
       "      <td>NaN</td>\n",
       "      <td>0.0</td>\n",
       "      <td>1.0</td>\n",
       "      <td>Meetings and Conference</td>\n",
       "      <td>Mountain climbing</td>\n",
       "      <td>Newspaper, magazines,brochures</td>\n",
       "      <td>Independent</td>\n",
       "      <td>...</td>\n",
       "      <td>No</td>\n",
       "      <td>No</td>\n",
       "      <td>No</td>\n",
       "      <td>No</td>\n",
       "      <td>No</td>\n",
       "      <td>1</td>\n",
       "      <td>0</td>\n",
       "      <td>Cash</td>\n",
       "      <td>No</td>\n",
       "      <td>NaN</td>\n",
       "    </tr>\n",
       "    <tr>\n",
       "      <th>1597</th>\n",
       "      <td>tour_990</td>\n",
       "      <td>ITALY</td>\n",
       "      <td>45-64</td>\n",
       "      <td>Spouse and Children</td>\n",
       "      <td>3.0</td>\n",
       "      <td>1.0</td>\n",
       "      <td>Leisure and Holidays</td>\n",
       "      <td>Wildlife tourism</td>\n",
       "      <td>Friends, relatives</td>\n",
       "      <td>Package Tour</td>\n",
       "      <td>...</td>\n",
       "      <td>Yes</td>\n",
       "      <td>Yes</td>\n",
       "      <td>Yes</td>\n",
       "      <td>No</td>\n",
       "      <td>No</td>\n",
       "      <td>10</td>\n",
       "      <td>5</td>\n",
       "      <td>Other</td>\n",
       "      <td>Yes</td>\n",
       "      <td>Wildlife</td>\n",
       "    </tr>\n",
       "    <tr>\n",
       "      <th>1598</th>\n",
       "      <td>tour_992</td>\n",
       "      <td>FINLAND</td>\n",
       "      <td>25-44</td>\n",
       "      <td>Alone</td>\n",
       "      <td>0.0</td>\n",
       "      <td>1.0</td>\n",
       "      <td>Meetings and Conference</td>\n",
       "      <td>Mountain climbing</td>\n",
       "      <td>Friends, relatives</td>\n",
       "      <td>Independent</td>\n",
       "      <td>...</td>\n",
       "      <td>No</td>\n",
       "      <td>No</td>\n",
       "      <td>No</td>\n",
       "      <td>No</td>\n",
       "      <td>No</td>\n",
       "      <td>6</td>\n",
       "      <td>0</td>\n",
       "      <td>Cash</td>\n",
       "      <td>Yes</td>\n",
       "      <td>No comments</td>\n",
       "    </tr>\n",
       "    <tr>\n",
       "      <th>1599</th>\n",
       "      <td>tour_996</td>\n",
       "      <td>SOUTH AFRICA</td>\n",
       "      <td>24-Jan</td>\n",
       "      <td>Alone</td>\n",
       "      <td>0.0</td>\n",
       "      <td>1.0</td>\n",
       "      <td>Business</td>\n",
       "      <td>Beach tourism</td>\n",
       "      <td>Friends, relatives</td>\n",
       "      <td>Independent</td>\n",
       "      <td>...</td>\n",
       "      <td>No</td>\n",
       "      <td>No</td>\n",
       "      <td>No</td>\n",
       "      <td>No</td>\n",
       "      <td>No</td>\n",
       "      <td>4</td>\n",
       "      <td>0</td>\n",
       "      <td>Cash</td>\n",
       "      <td>Yes</td>\n",
       "      <td>Wildlife</td>\n",
       "    </tr>\n",
       "    <tr>\n",
       "      <th>1600</th>\n",
       "      <td>tour_998</td>\n",
       "      <td>SOUTH AFRICA</td>\n",
       "      <td>25-44</td>\n",
       "      <td>Spouse</td>\n",
       "      <td>1.0</td>\n",
       "      <td>1.0</td>\n",
       "      <td>Leisure and Holidays</td>\n",
       "      <td>Cultural tourism</td>\n",
       "      <td>Radio, TV, Web</td>\n",
       "      <td>Independent</td>\n",
       "      <td>...</td>\n",
       "      <td>No</td>\n",
       "      <td>No</td>\n",
       "      <td>No</td>\n",
       "      <td>No</td>\n",
       "      <td>No</td>\n",
       "      <td>9</td>\n",
       "      <td>5</td>\n",
       "      <td>Cash</td>\n",
       "      <td>Yes</td>\n",
       "      <td>Friendly People</td>\n",
       "    </tr>\n",
       "  </tbody>\n",
       "</table>\n",
       "<p>1601 rows × 22 columns</p>\n",
       "</div>"
      ],
      "text/plain": [
       "             ID                   country age_group          travel_with  \\\n",
       "0        tour_1                 AUSTRALIA     45-64               Spouse   \n",
       "1      tour_100              SOUTH AFRICA     25-44    Friends/Relatives   \n",
       "2     tour_1001                   GERMANY     25-44    Friends/Relatives   \n",
       "3     tour_1006                    CANADA    24-Jan    Friends/Relatives   \n",
       "4     tour_1009            UNITED KINGDOM     45-64    Friends/Relatives   \n",
       "...         ...                       ...       ...                  ...   \n",
       "1596   tour_988  UNITED STATES OF AMERICA     25-44                  NaN   \n",
       "1597   tour_990                     ITALY     45-64  Spouse and Children   \n",
       "1598   tour_992                   FINLAND     25-44                Alone   \n",
       "1599   tour_996              SOUTH AFRICA    24-Jan                Alone   \n",
       "1600   tour_998              SOUTH AFRICA     25-44               Spouse   \n",
       "\n",
       "      total_female  total_male                  purpose      main_activity  \\\n",
       "0              1.0         1.0     Leisure and Holidays   Wildlife tourism   \n",
       "1              0.0         4.0                 Business   Wildlife tourism   \n",
       "2              3.0         0.0     Leisure and Holidays      Beach tourism   \n",
       "3              2.0         0.0     Leisure and Holidays   Cultural tourism   \n",
       "4              2.0         2.0     Leisure and Holidays   Wildlife tourism   \n",
       "...            ...         ...                      ...                ...   \n",
       "1596           0.0         1.0  Meetings and Conference  Mountain climbing   \n",
       "1597           3.0         1.0     Leisure and Holidays   Wildlife tourism   \n",
       "1598           0.0         1.0  Meetings and Conference  Mountain climbing   \n",
       "1599           0.0         1.0                 Business      Beach tourism   \n",
       "1600           1.0         1.0     Leisure and Holidays   Cultural tourism   \n",
       "\n",
       "                         info_source tour_arrangement  ... package_food  \\\n",
       "0       Travel, agent, tour operator     Package Tour  ...          Yes   \n",
       "1            Tanzania Mission Abroad     Package Tour  ...           No   \n",
       "2                 Friends, relatives      Independent  ...           No   \n",
       "3                             others      Independent  ...           No   \n",
       "4                 Friends, relatives     Package Tour  ...          Yes   \n",
       "...                              ...              ...  ...          ...   \n",
       "1596  Newspaper, magazines,brochures      Independent  ...           No   \n",
       "1597              Friends, relatives     Package Tour  ...          Yes   \n",
       "1598              Friends, relatives      Independent  ...           No   \n",
       "1599              Friends, relatives      Independent  ...           No   \n",
       "1600                  Radio, TV, Web      Independent  ...           No   \n",
       "\n",
       "     package_transport_tz package_sightseeing package_guided_tour  \\\n",
       "0                     Yes                 Yes                 Yes   \n",
       "1                      No                  No                  No   \n",
       "2                      No                  No                  No   \n",
       "3                      No                  No                  No   \n",
       "4                     Yes                  No                  No   \n",
       "...                   ...                 ...                 ...   \n",
       "1596                   No                  No                  No   \n",
       "1597                  Yes                 Yes                  No   \n",
       "1598                   No                  No                  No   \n",
       "1599                   No                  No                  No   \n",
       "1600                   No                  No                  No   \n",
       "\n",
       "     package_insurance night_mainland night_zanzibar  payment_mode  \\\n",
       "0                  Yes             10              3          Cash   \n",
       "1                   No             13              0          Cash   \n",
       "2                   No              7             14          Cash   \n",
       "3                   No              0              4          Cash   \n",
       "4                   No             10              0          Cash   \n",
       "...                ...            ...            ...           ...   \n",
       "1596                No              1              0          Cash   \n",
       "1597                No             10              5         Other   \n",
       "1598                No              6              0          Cash   \n",
       "1599                No              4              0          Cash   \n",
       "1600                No              9              5          Cash   \n",
       "\n",
       "      first_trip_tz                       most_impressing  \n",
       "0               Yes                              Wildlife  \n",
       "1                No  Wonderful Country, Landscape, Nature  \n",
       "2                No                           No comments  \n",
       "3               Yes                       Friendly People  \n",
       "4               Yes                       Friendly People  \n",
       "...             ...                                   ...  \n",
       "1596             No                                   NaN  \n",
       "1597            Yes                              Wildlife  \n",
       "1598            Yes                           No comments  \n",
       "1599            Yes                              Wildlife  \n",
       "1600            Yes                       Friendly People  \n",
       "\n",
       "[1601 rows x 22 columns]"
      ]
     },
     "execution_count": 85,
     "metadata": {},
     "output_type": "execute_result"
    }
   ],
   "source": [
    "tz"
   ]
  },
  {
   "cell_type": "code",
   "execution_count": 86,
   "id": "2d85ac1b",
   "metadata": {},
   "outputs": [
    {
     "data": {
      "text/plain": [
       "ID                         0\n",
       "country                    0\n",
       "age_group                  0\n",
       "travel_with              327\n",
       "total_female               1\n",
       "total_male                 2\n",
       "purpose                    0\n",
       "main_activity              0\n",
       "info_source                0\n",
       "tour_arrangement           0\n",
       "package_transport_int      0\n",
       "package_accomodation       0\n",
       "package_food               0\n",
       "package_transport_tz       0\n",
       "package_sightseeing        0\n",
       "package_guided_tour        0\n",
       "package_insurance          0\n",
       "night_mainland             0\n",
       "night_zanzibar             0\n",
       "payment_mode               0\n",
       "first_trip_tz              0\n",
       "most_impressing          111\n",
       "dtype: int64"
      ]
     },
     "execution_count": 86,
     "metadata": {},
     "output_type": "execute_result"
    }
   ],
   "source": [
    "tz.isnull().sum()"
   ]
  },
  {
   "cell_type": "code",
   "execution_count": 87,
   "id": "2026102f",
   "metadata": {},
   "outputs": [],
   "source": [
    "tz['travel_with'].fillna(value='Alone', inplace = True)"
   ]
  },
  {
   "cell_type": "code",
   "execution_count": 88,
   "id": "3aae990e",
   "metadata": {},
   "outputs": [],
   "source": [
    "tz['most_impressing'].fillna(value='Alone', inplace = True)"
   ]
  },
  {
   "cell_type": "code",
   "execution_count": 89,
   "id": "de3296bf",
   "metadata": {},
   "outputs": [],
   "source": [
    "tz['total_male'].fillna(method = 'bfill',inplace=True)\n",
    "tz['total_female'].fillna(method = 'bfill',inplace=True)"
   ]
  },
  {
   "cell_type": "code",
   "execution_count": 90,
   "id": "9e466096",
   "metadata": {},
   "outputs": [
    {
     "data": {
      "text/plain": [
       "ID                       0\n",
       "country                  0\n",
       "age_group                0\n",
       "travel_with              0\n",
       "total_female             0\n",
       "total_male               0\n",
       "purpose                  0\n",
       "main_activity            0\n",
       "info_source              0\n",
       "tour_arrangement         0\n",
       "package_transport_int    0\n",
       "package_accomodation     0\n",
       "package_food             0\n",
       "package_transport_tz     0\n",
       "package_sightseeing      0\n",
       "package_guided_tour      0\n",
       "package_insurance        0\n",
       "night_mainland           0\n",
       "night_zanzibar           0\n",
       "payment_mode             0\n",
       "first_trip_tz            0\n",
       "most_impressing          0\n",
       "dtype: int64"
      ]
     },
     "execution_count": 90,
     "metadata": {},
     "output_type": "execute_result"
    }
   ],
   "source": [
    "tz.isnull().sum()"
   ]
  },
  {
   "cell_type": "code",
   "execution_count": 91,
   "id": "e5030a1a",
   "metadata": {},
   "outputs": [
    {
     "data": {
      "text/plain": [
       "Index(['ID', 'country', 'age_group', 'travel_with', 'total_female',\n",
       "       'total_male', 'purpose', 'main_activity', 'info_source',\n",
       "       'tour_arrangement', 'package_transport_int', 'package_accomodation',\n",
       "       'package_food', 'package_transport_tz', 'package_sightseeing',\n",
       "       'package_guided_tour', 'package_insurance', 'night_mainland',\n",
       "       'night_zanzibar', 'payment_mode', 'first_trip_tz', 'most_impressing'],\n",
       "      dtype='object')"
      ]
     },
     "execution_count": 91,
     "metadata": {},
     "output_type": "execute_result"
    }
   ],
   "source": [
    "tz.columns"
   ]
  },
  {
   "cell_type": "code",
   "execution_count": 92,
   "id": "8a1a6d1c",
   "metadata": {},
   "outputs": [],
   "source": [
    "tz = tz.drop(['ID', 'country', 'age_group', 'travel_with',\n",
    "        'purpose', 'main_activity', 'info_source',\n",
    "       'tour_arrangement', 'package_transport_int', 'package_accomodation',\n",
    "       'package_food', 'package_transport_tz', 'package_sightseeing',\n",
    "       'package_guided_tour', 'package_insurance',\n",
    "        'payment_mode', 'first_trip_tz', 'most_impressing'],\n",
    "     axis=1)\n"
   ]
  },
  {
   "cell_type": "code",
   "execution_count": 93,
   "id": "533da824",
   "metadata": {},
   "outputs": [
    {
     "data": {
      "text/html": [
       "<div>\n",
       "<style scoped>\n",
       "    .dataframe tbody tr th:only-of-type {\n",
       "        vertical-align: middle;\n",
       "    }\n",
       "\n",
       "    .dataframe tbody tr th {\n",
       "        vertical-align: top;\n",
       "    }\n",
       "\n",
       "    .dataframe thead th {\n",
       "        text-align: right;\n",
       "    }\n",
       "</style>\n",
       "<table border=\"1\" class=\"dataframe\">\n",
       "  <thead>\n",
       "    <tr style=\"text-align: right;\">\n",
       "      <th></th>\n",
       "      <th>total_female</th>\n",
       "      <th>total_male</th>\n",
       "      <th>night_mainland</th>\n",
       "      <th>night_zanzibar</th>\n",
       "    </tr>\n",
       "  </thead>\n",
       "  <tbody>\n",
       "    <tr>\n",
       "      <th>0</th>\n",
       "      <td>1.0</td>\n",
       "      <td>1.0</td>\n",
       "      <td>10</td>\n",
       "      <td>3</td>\n",
       "    </tr>\n",
       "    <tr>\n",
       "      <th>1</th>\n",
       "      <td>0.0</td>\n",
       "      <td>4.0</td>\n",
       "      <td>13</td>\n",
       "      <td>0</td>\n",
       "    </tr>\n",
       "    <tr>\n",
       "      <th>2</th>\n",
       "      <td>3.0</td>\n",
       "      <td>0.0</td>\n",
       "      <td>7</td>\n",
       "      <td>14</td>\n",
       "    </tr>\n",
       "    <tr>\n",
       "      <th>3</th>\n",
       "      <td>2.0</td>\n",
       "      <td>0.0</td>\n",
       "      <td>0</td>\n",
       "      <td>4</td>\n",
       "    </tr>\n",
       "    <tr>\n",
       "      <th>4</th>\n",
       "      <td>2.0</td>\n",
       "      <td>2.0</td>\n",
       "      <td>10</td>\n",
       "      <td>0</td>\n",
       "    </tr>\n",
       "    <tr>\n",
       "      <th>...</th>\n",
       "      <td>...</td>\n",
       "      <td>...</td>\n",
       "      <td>...</td>\n",
       "      <td>...</td>\n",
       "    </tr>\n",
       "    <tr>\n",
       "      <th>1596</th>\n",
       "      <td>0.0</td>\n",
       "      <td>1.0</td>\n",
       "      <td>1</td>\n",
       "      <td>0</td>\n",
       "    </tr>\n",
       "    <tr>\n",
       "      <th>1597</th>\n",
       "      <td>3.0</td>\n",
       "      <td>1.0</td>\n",
       "      <td>10</td>\n",
       "      <td>5</td>\n",
       "    </tr>\n",
       "    <tr>\n",
       "      <th>1598</th>\n",
       "      <td>0.0</td>\n",
       "      <td>1.0</td>\n",
       "      <td>6</td>\n",
       "      <td>0</td>\n",
       "    </tr>\n",
       "    <tr>\n",
       "      <th>1599</th>\n",
       "      <td>0.0</td>\n",
       "      <td>1.0</td>\n",
       "      <td>4</td>\n",
       "      <td>0</td>\n",
       "    </tr>\n",
       "    <tr>\n",
       "      <th>1600</th>\n",
       "      <td>1.0</td>\n",
       "      <td>1.0</td>\n",
       "      <td>9</td>\n",
       "      <td>5</td>\n",
       "    </tr>\n",
       "  </tbody>\n",
       "</table>\n",
       "<p>1601 rows × 4 columns</p>\n",
       "</div>"
      ],
      "text/plain": [
       "      total_female  total_male  night_mainland  night_zanzibar\n",
       "0              1.0         1.0              10               3\n",
       "1              0.0         4.0              13               0\n",
       "2              3.0         0.0               7              14\n",
       "3              2.0         0.0               0               4\n",
       "4              2.0         2.0              10               0\n",
       "...            ...         ...             ...             ...\n",
       "1596           0.0         1.0               1               0\n",
       "1597           3.0         1.0              10               5\n",
       "1598           0.0         1.0               6               0\n",
       "1599           0.0         1.0               4               0\n",
       "1600           1.0         1.0               9               5\n",
       "\n",
       "[1601 rows x 4 columns]"
      ]
     },
     "execution_count": 93,
     "metadata": {},
     "output_type": "execute_result"
    }
   ],
   "source": [
    "tz"
   ]
  },
  {
   "cell_type": "code",
   "execution_count": 96,
   "id": "00f87bbb",
   "metadata": {},
   "outputs": [
    {
     "data": {
      "text/plain": [
       "LinearRegression()"
      ]
     },
     "execution_count": 96,
     "metadata": {},
     "output_type": "execute_result"
    }
   ],
   "source": [
    "lm.fit(x,y)"
   ]
  },
  {
   "cell_type": "code",
   "execution_count": 97,
   "id": "cb7f2082",
   "metadata": {},
   "outputs": [],
   "source": [
    "Y_pred = lm.predict(tz)"
   ]
  },
  {
   "cell_type": "code",
   "execution_count": 98,
   "id": "1a790abc",
   "metadata": {},
   "outputs": [
    {
     "data": {
      "text/plain": [
       "array([[ 8549151.19442273],\n",
       "       [ 7629303.21523461],\n",
       "       [15788993.55254679],\n",
       "       ...,\n",
       "       [ 5185461.29899789],\n",
       "       [ 5117101.39759568],\n",
       "       [ 9164292.35522677]])"
      ]
     },
     "execution_count": 98,
     "metadata": {},
     "output_type": "execute_result"
    }
   ],
   "source": [
    "Y_pred"
   ]
  },
  {
   "cell_type": "code",
   "execution_count": 100,
   "id": "7422988a",
   "metadata": {},
   "outputs": [],
   "source": [
    "# evaluate accuracy\n",
    "from sklearn.metrics import accuracy_score\n",
    "accuracy = lm.score(tz,Y_pred)"
   ]
  },
  {
   "cell_type": "code",
   "execution_count": 101,
   "id": "47c91ece",
   "metadata": {},
   "outputs": [
    {
     "data": {
      "text/plain": [
       "1.0"
      ]
     },
     "execution_count": 101,
     "metadata": {},
     "output_type": "execute_result"
    }
   ],
   "source": [
    "accuracy"
   ]
  },
  {
   "cell_type": "code",
   "execution_count": 102,
   "id": "a820a847",
   "metadata": {},
   "outputs": [
    {
     "data": {
      "text/html": [
       "<div>\n",
       "<style scoped>\n",
       "    .dataframe tbody tr th:only-of-type {\n",
       "        vertical-align: middle;\n",
       "    }\n",
       "\n",
       "    .dataframe tbody tr th {\n",
       "        vertical-align: top;\n",
       "    }\n",
       "\n",
       "    .dataframe thead th {\n",
       "        text-align: right;\n",
       "    }\n",
       "</style>\n",
       "<table border=\"1\" class=\"dataframe\">\n",
       "  <thead>\n",
       "    <tr style=\"text-align: right;\">\n",
       "      <th></th>\n",
       "      <th>total_female</th>\n",
       "      <th>total_male</th>\n",
       "      <th>night_mainland</th>\n",
       "      <th>night_zanzibar</th>\n",
       "    </tr>\n",
       "  </thead>\n",
       "  <tbody>\n",
       "    <tr>\n",
       "      <th>4273</th>\n",
       "      <td>0.0</td>\n",
       "      <td>1.0</td>\n",
       "      <td>3.0</td>\n",
       "      <td>0.0</td>\n",
       "    </tr>\n",
       "    <tr>\n",
       "      <th>1738</th>\n",
       "      <td>0.0</td>\n",
       "      <td>1.0</td>\n",
       "      <td>55.0</td>\n",
       "      <td>0.0</td>\n",
       "    </tr>\n",
       "    <tr>\n",
       "      <th>4666</th>\n",
       "      <td>5.0</td>\n",
       "      <td>9.0</td>\n",
       "      <td>4.0</td>\n",
       "      <td>0.0</td>\n",
       "    </tr>\n",
       "    <tr>\n",
       "      <th>4602</th>\n",
       "      <td>0.0</td>\n",
       "      <td>1.0</td>\n",
       "      <td>10.0</td>\n",
       "      <td>0.0</td>\n",
       "    </tr>\n",
       "    <tr>\n",
       "      <th>4020</th>\n",
       "      <td>0.0</td>\n",
       "      <td>1.0</td>\n",
       "      <td>12.0</td>\n",
       "      <td>3.0</td>\n",
       "    </tr>\n",
       "    <tr>\n",
       "      <th>...</th>\n",
       "      <td>...</td>\n",
       "      <td>...</td>\n",
       "      <td>...</td>\n",
       "      <td>...</td>\n",
       "    </tr>\n",
       "    <tr>\n",
       "      <th>4079</th>\n",
       "      <td>1.0</td>\n",
       "      <td>0.0</td>\n",
       "      <td>0.0</td>\n",
       "      <td>11.0</td>\n",
       "    </tr>\n",
       "    <tr>\n",
       "      <th>4171</th>\n",
       "      <td>1.0</td>\n",
       "      <td>1.0</td>\n",
       "      <td>0.0</td>\n",
       "      <td>7.0</td>\n",
       "    </tr>\n",
       "    <tr>\n",
       "      <th>599</th>\n",
       "      <td>0.0</td>\n",
       "      <td>4.0</td>\n",
       "      <td>10.0</td>\n",
       "      <td>0.0</td>\n",
       "    </tr>\n",
       "    <tr>\n",
       "      <th>1361</th>\n",
       "      <td>1.0</td>\n",
       "      <td>1.0</td>\n",
       "      <td>6.0</td>\n",
       "      <td>4.0</td>\n",
       "    </tr>\n",
       "    <tr>\n",
       "      <th>1547</th>\n",
       "      <td>1.0</td>\n",
       "      <td>1.0</td>\n",
       "      <td>7.0</td>\n",
       "      <td>7.0</td>\n",
       "    </tr>\n",
       "  </tbody>\n",
       "</table>\n",
       "<p>2885 rows × 4 columns</p>\n",
       "</div>"
      ],
      "text/plain": [
       "      total_female  total_male  night_mainland  night_zanzibar\n",
       "4273           0.0         1.0             3.0             0.0\n",
       "1738           0.0         1.0            55.0             0.0\n",
       "4666           5.0         9.0             4.0             0.0\n",
       "4602           0.0         1.0            10.0             0.0\n",
       "4020           0.0         1.0            12.0             3.0\n",
       "...            ...         ...             ...             ...\n",
       "4079           1.0         0.0             0.0            11.0\n",
       "4171           1.0         1.0             0.0             7.0\n",
       "599            0.0         4.0            10.0             0.0\n",
       "1361           1.0         1.0             6.0             4.0\n",
       "1547           1.0         1.0             7.0             7.0\n",
       "\n",
       "[2885 rows x 4 columns]"
      ]
     },
     "execution_count": 102,
     "metadata": {},
     "output_type": "execute_result"
    }
   ],
   "source": [
    "x_test"
   ]
  },
  {
   "cell_type": "code",
   "execution_count": 106,
   "id": "052d73d2",
   "metadata": {
    "scrolled": true
   },
   "outputs": [
    {
     "data": {
      "text/html": [
       "<div>\n",
       "<style scoped>\n",
       "    .dataframe tbody tr th:only-of-type {\n",
       "        vertical-align: middle;\n",
       "    }\n",
       "\n",
       "    .dataframe tbody tr th {\n",
       "        vertical-align: top;\n",
       "    }\n",
       "\n",
       "    .dataframe thead th {\n",
       "        text-align: right;\n",
       "    }\n",
       "</style>\n",
       "<table border=\"1\" class=\"dataframe\">\n",
       "  <thead>\n",
       "    <tr style=\"text-align: right;\">\n",
       "      <th></th>\n",
       "      <th>total_female</th>\n",
       "      <th>total_male</th>\n",
       "      <th>night_mainland</th>\n",
       "      <th>night_zanzibar</th>\n",
       "      <th>prediction</th>\n",
       "    </tr>\n",
       "  </thead>\n",
       "  <tbody>\n",
       "    <tr>\n",
       "      <th>0</th>\n",
       "      <td>1.0</td>\n",
       "      <td>1.0</td>\n",
       "      <td>10</td>\n",
       "      <td>3</td>\n",
       "      <td>8.549151e+06</td>\n",
       "    </tr>\n",
       "    <tr>\n",
       "      <th>1</th>\n",
       "      <td>0.0</td>\n",
       "      <td>4.0</td>\n",
       "      <td>13</td>\n",
       "      <td>0</td>\n",
       "      <td>7.629303e+06</td>\n",
       "    </tr>\n",
       "    <tr>\n",
       "      <th>2</th>\n",
       "      <td>3.0</td>\n",
       "      <td>0.0</td>\n",
       "      <td>7</td>\n",
       "      <td>14</td>\n",
       "      <td>1.578899e+07</td>\n",
       "    </tr>\n",
       "    <tr>\n",
       "      <th>3</th>\n",
       "      <td>2.0</td>\n",
       "      <td>0.0</td>\n",
       "      <td>0</td>\n",
       "      <td>4</td>\n",
       "      <td>1.005014e+07</td>\n",
       "    </tr>\n",
       "    <tr>\n",
       "      <th>4</th>\n",
       "      <td>2.0</td>\n",
       "      <td>2.0</td>\n",
       "      <td>10</td>\n",
       "      <td>0</td>\n",
       "      <td>1.056302e+07</td>\n",
       "    </tr>\n",
       "    <tr>\n",
       "      <th>...</th>\n",
       "      <td>...</td>\n",
       "      <td>...</td>\n",
       "      <td>...</td>\n",
       "      <td>...</td>\n",
       "      <td>...</td>\n",
       "    </tr>\n",
       "    <tr>\n",
       "      <th>1596</th>\n",
       "      <td>0.0</td>\n",
       "      <td>1.0</td>\n",
       "      <td>1</td>\n",
       "      <td>0</td>\n",
       "      <td>5.014562e+06</td>\n",
       "    </tr>\n",
       "    <tr>\n",
       "      <th>1597</th>\n",
       "      <td>3.0</td>\n",
       "      <td>1.0</td>\n",
       "      <td>10</td>\n",
       "      <td>5</td>\n",
       "      <td>1.370445e+07</td>\n",
       "    </tr>\n",
       "    <tr>\n",
       "      <th>1598</th>\n",
       "      <td>0.0</td>\n",
       "      <td>1.0</td>\n",
       "      <td>6</td>\n",
       "      <td>0</td>\n",
       "      <td>5.185461e+06</td>\n",
       "    </tr>\n",
       "    <tr>\n",
       "      <th>1599</th>\n",
       "      <td>0.0</td>\n",
       "      <td>1.0</td>\n",
       "      <td>4</td>\n",
       "      <td>0</td>\n",
       "      <td>5.117101e+06</td>\n",
       "    </tr>\n",
       "    <tr>\n",
       "      <th>1600</th>\n",
       "      <td>1.0</td>\n",
       "      <td>1.0</td>\n",
       "      <td>9</td>\n",
       "      <td>5</td>\n",
       "      <td>9.164292e+06</td>\n",
       "    </tr>\n",
       "  </tbody>\n",
       "</table>\n",
       "<p>1601 rows × 5 columns</p>\n",
       "</div>"
      ],
      "text/plain": [
       "      total_female  total_male  night_mainland  night_zanzibar    prediction\n",
       "0              1.0         1.0              10               3  8.549151e+06\n",
       "1              0.0         4.0              13               0  7.629303e+06\n",
       "2              3.0         0.0               7              14  1.578899e+07\n",
       "3              2.0         0.0               0               4  1.005014e+07\n",
       "4              2.0         2.0              10               0  1.056302e+07\n",
       "...            ...         ...             ...             ...           ...\n",
       "1596           0.0         1.0               1               0  5.014562e+06\n",
       "1597           3.0         1.0              10               5  1.370445e+07\n",
       "1598           0.0         1.0               6               0  5.185461e+06\n",
       "1599           0.0         1.0               4               0  5.117101e+06\n",
       "1600           1.0         1.0               9               5  9.164292e+06\n",
       "\n",
       "[1601 rows x 5 columns]"
      ]
     },
     "execution_count": 106,
     "metadata": {},
     "output_type": "execute_result"
    }
   ],
   "source": [
    "y_test = tz.assign(prediction=Y_pred)\n",
    "y_test"
   ]
  },
  {
   "cell_type": "code",
   "execution_count": 107,
   "id": "ca3b9834",
   "metadata": {},
   "outputs": [
    {
     "data": {
      "text/html": [
       "<div>\n",
       "<style scoped>\n",
       "    .dataframe tbody tr th:only-of-type {\n",
       "        vertical-align: middle;\n",
       "    }\n",
       "\n",
       "    .dataframe tbody tr th {\n",
       "        vertical-align: top;\n",
       "    }\n",
       "\n",
       "    .dataframe thead th {\n",
       "        text-align: right;\n",
       "    }\n",
       "</style>\n",
       "<table border=\"1\" class=\"dataframe\">\n",
       "  <thead>\n",
       "    <tr style=\"text-align: right;\">\n",
       "      <th></th>\n",
       "      <th>total_female</th>\n",
       "      <th>total_male</th>\n",
       "      <th>night_mainland</th>\n",
       "      <th>night_zanzibar</th>\n",
       "      <th>Y_pred</th>\n",
       "    </tr>\n",
       "  </thead>\n",
       "  <tbody>\n",
       "    <tr>\n",
       "      <th>4273</th>\n",
       "      <td>0.0</td>\n",
       "      <td>1.0</td>\n",
       "      <td>3.0</td>\n",
       "      <td>0.0</td>\n",
       "      <td>4.434895e+06</td>\n",
       "    </tr>\n",
       "    <tr>\n",
       "      <th>1738</th>\n",
       "      <td>0.0</td>\n",
       "      <td>1.0</td>\n",
       "      <td>55.0</td>\n",
       "      <td>0.0</td>\n",
       "      <td>6.024051e+06</td>\n",
       "    </tr>\n",
       "    <tr>\n",
       "      <th>4666</th>\n",
       "      <td>5.0</td>\n",
       "      <td>9.0</td>\n",
       "      <td>4.0</td>\n",
       "      <td>0.0</td>\n",
       "      <td>3.990019e+07</td>\n",
       "    </tr>\n",
       "    <tr>\n",
       "      <th>4602</th>\n",
       "      <td>0.0</td>\n",
       "      <td>1.0</td>\n",
       "      <td>10.0</td>\n",
       "      <td>0.0</td>\n",
       "      <td>4.648820e+06</td>\n",
       "    </tr>\n",
       "    <tr>\n",
       "      <th>4020</th>\n",
       "      <td>0.0</td>\n",
       "      <td>1.0</td>\n",
       "      <td>12.0</td>\n",
       "      <td>3.0</td>\n",
       "      <td>5.176350e+06</td>\n",
       "    </tr>\n",
       "    <tr>\n",
       "      <th>...</th>\n",
       "      <td>...</td>\n",
       "      <td>...</td>\n",
       "      <td>...</td>\n",
       "      <td>...</td>\n",
       "      <td>...</td>\n",
       "    </tr>\n",
       "    <tr>\n",
       "      <th>4079</th>\n",
       "      <td>1.0</td>\n",
       "      <td>0.0</td>\n",
       "      <td>0.0</td>\n",
       "      <td>11.0</td>\n",
       "      <td>7.102287e+06</td>\n",
       "    </tr>\n",
       "    <tr>\n",
       "      <th>4171</th>\n",
       "      <td>1.0</td>\n",
       "      <td>1.0</td>\n",
       "      <td>0.0</td>\n",
       "      <td>7.0</td>\n",
       "      <td>8.802731e+06</td>\n",
       "    </tr>\n",
       "    <tr>\n",
       "      <th>599</th>\n",
       "      <td>0.0</td>\n",
       "      <td>4.0</td>\n",
       "      <td>10.0</td>\n",
       "      <td>0.0</td>\n",
       "      <td>1.161579e+07</td>\n",
       "    </tr>\n",
       "    <tr>\n",
       "      <th>1361</th>\n",
       "      <td>1.0</td>\n",
       "      <td>1.0</td>\n",
       "      <td>6.0</td>\n",
       "      <td>4.0</td>\n",
       "      <td>8.519687e+06</td>\n",
       "    </tr>\n",
       "    <tr>\n",
       "      <th>1547</th>\n",
       "      <td>1.0</td>\n",
       "      <td>1.0</td>\n",
       "      <td>7.0</td>\n",
       "      <td>7.0</td>\n",
       "      <td>9.016656e+06</td>\n",
       "    </tr>\n",
       "  </tbody>\n",
       "</table>\n",
       "<p>2885 rows × 5 columns</p>\n",
       "</div>"
      ],
      "text/plain": [
       "      total_female  total_male  night_mainland  night_zanzibar        Y_pred\n",
       "4273           0.0         1.0             3.0             0.0  4.434895e+06\n",
       "1738           0.0         1.0            55.0             0.0  6.024051e+06\n",
       "4666           5.0         9.0             4.0             0.0  3.990019e+07\n",
       "4602           0.0         1.0            10.0             0.0  4.648820e+06\n",
       "4020           0.0         1.0            12.0             3.0  5.176350e+06\n",
       "...            ...         ...             ...             ...           ...\n",
       "4079           1.0         0.0             0.0            11.0  7.102287e+06\n",
       "4171           1.0         1.0             0.0             7.0  8.802731e+06\n",
       "599            0.0         4.0            10.0             0.0  1.161579e+07\n",
       "1361           1.0         1.0             6.0             4.0  8.519687e+06\n",
       "1547           1.0         1.0             7.0             7.0  9.016656e+06\n",
       "\n",
       "[2885 rows x 5 columns]"
      ]
     },
     "execution_count": 107,
     "metadata": {},
     "output_type": "execute_result"
    }
   ],
   "source": [
    "x_test = x_test.assign(Y_pred=prediction)\n",
    "x_test"
   ]
  },
  {
   "cell_type": "code",
   "execution_count": 108,
   "id": "3183f319",
   "metadata": {},
   "outputs": [
    {
     "name": "stderr",
     "output_type": "stream",
     "text": [
      "C:\\Users\\user\\anaconda3\\lib\\site-packages\\seaborn\\distributions.py:2557: FutureWarning: `distplot` is a deprecated function and will be removed in a future version. Please adapt your code to use either `displot` (a figure-level function with similar flexibility) or `histplot` (an axes-level function for histograms).\n",
      "  warnings.warn(msg, FutureWarning)\n"
     ]
    },
    {
     "data": {
      "text/plain": [
       "<AxesSubplot:ylabel='Density'>"
      ]
     },
     "execution_count": 108,
     "metadata": {},
     "output_type": "execute_result"
    },
    {
     "data": {
      "image/png": "[encoded data removed]",
      "text/plain": [
       "<Figure size 432x288 with 1 Axes>"
      ]
     },
     "metadata": {
      "needs_background": "light"
     },
     "output_type": "display_data"
    }
   ],
   "source": [
    "sns.distplot(y_test-Y_pred)"
   ]
  },
  {
   "cell_type": "markdown",
   "id": "5baf4b00",
   "metadata": {},
   "source": [
    "## Actionable Insights and Recommendations"
   ]
  },
  {
   "cell_type": "markdown",
   "id": "64f89f66",
   "metadata": {},
   "source": [
    "The top 5 countries with the highest spending statistics are China, \n",
    "South Africa, Swizerland, Unitd Kingdom and United State of Amrica with United \n",
    "Kingdom having the highest spending tourists (50%).\n",
    "\n",
    "Tourists within the age of 45-64 are the highest spenders and the overall \n",
    "highest spenders are tourists whithin the age of 45-64 who travelled with their \n",
    "spouses. The highest age group among the tourists are mostly young people between the age of 25-44. since the most populated tourists are young people who are about 50% of the general population, more attention should be given to what interest this age group. for example, more investment should be made in the activities that is of interest to this age group.  \n",
    "\n",
    "The analysis also shows that the top main activity of tourists is wildlife tourism and this is the aspect of tourism that is more profitable and therefore  worthwhile to invest in. more area should be allocated for wildlife.\n",
    "\n",
    "Also from the analysis, tourists who do not consume package food are more \n",
    "than tourists who do. Indicating that the tourist mostly come alongside with food from their countries. It could be that the tourists are not familiar with the Tanzanian's kind of food. The Tanzanians should consider the production of  diverse kinds of food that the tourists are familiar with. This will lead to an  increase in the consumption of package food. \n",
    "\n"
   ]
  },
  {
   "cell_type": "code",
   "execution_count": null,
   "id": "b48ee6ef",
   "metadata": {},
   "outputs": [],
   "source": []
  }
 ],
 "metadata": {
  "kernelspec": {
   "display_name": "Python 3",
   "language": "python",
   "name": "python3"
  },
  "language_info": {
   "codemirror_mode": {
    "name": "ipython",
    "version": 3
   },
   "file_extension": ".py",
   "mimetype": "text/x-python",
   "name": "python",
   "nbconvert_exporter": "python",
   "pygments_lexer": "ipython3",
   "version": "3.8.8"
  }
 },
 "nbformat": 4,
 "nbformat_minor": 5
}
